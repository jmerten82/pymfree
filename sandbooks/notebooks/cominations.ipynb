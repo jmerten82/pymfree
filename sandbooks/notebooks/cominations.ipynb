{
 "nbformat": 4,
 "nbformat_minor": 2,
 "metadata": {
  "language_info": {
   "name": "python",
   "codemirror_mode": {
    "name": "ipython",
    "version": 3
   },
   "version": "3.7.7-final"
  },
  "orig_nbformat": 2,
  "file_extension": ".py",
  "mimetype": "text/x-python",
  "name": "python",
  "npconvert_exporter": "python",
  "pygments_lexer": "ipython3",
  "version": 3,
  "kernelspec": {
   "name": "python37764bit35ea5608fe5f40f18ddee189641235d7",
   "display_name": "Python 3.7.7 64-bit"
  }
 },
 "cells": [
  {
   "cell_type": "code",
   "execution_count": 21,
   "metadata": {},
   "outputs": [],
   "source": [
    "import itertools\n",
    "import numpy as np"
   ]
  },
  {
   "cell_type": "code",
   "execution_count": 43,
   "metadata": {
    "tags": [
     "outputPrepend"
    ]
   },
   "outputs": [
    {
     "output_type": "stream",
     "name": "stdout",
     "text": "[array([], dtype=float64) array([1]) array([2]) array([3]) array([1, 1])\n array([1, 2]) array([1, 3]) array([2, 2]) array([2, 3]) array([3, 3])\n array([1, 1, 1]) array([1, 1, 2]) array([1, 1, 3]) array([1, 2, 2])\n array([1, 2, 3]) array([1, 3, 3]) array([2, 2, 2]) array([2, 2, 3])\n array([2, 3, 3]) array([3, 3, 3])]\n"
    }
   ],
   "source": [
    "dims = [1,2,3]\n",
    "p = 3\n",
    "\n",
    "terms = []\n",
    "for order in range(p+1):\n",
    "    for x in itertools.combinations_with_replacement(dims,order):\n",
    "        terms.append(np.array(x))\n",
    "terms = np.array(terms)\n",
    "print(terms)"
   ]
  },
  {
   "cell_type": "code",
   "execution_count": 44,
   "metadata": {},
   "outputs": [],
   "source": [
    "def convert_terms(terms,dims):\n",
    "    out = np.zeros([len(terms),len(dims)])\n",
    "    for i,term in enumerate(terms):\n",
    "        for j, dim in enumerate(dims):\n",
    "            out[i,j] = (term==dim).sum()\n",
    "    return out"
   ]
  },
  {
   "cell_type": "code",
   "execution_count": 48,
   "metadata": {},
   "outputs": [],
   "source": [
    "out = convert_terms(terms,dims)"
   ]
  },
  {
   "cell_type": "code",
   "execution_count": 49,
   "metadata": {},
   "outputs": [
    {
     "output_type": "execute_result",
     "data": {
      "text/plain": "array([[0., 0., 0.],\n       [1., 0., 0.],\n       [0., 1., 0.],\n       [0., 0., 1.],\n       [2., 0., 0.],\n       [1., 1., 0.],\n       [1., 0., 1.],\n       [0., 2., 0.],\n       [0., 1., 1.],\n       [0., 0., 2.],\n       [3., 0., 0.],\n       [2., 1., 0.],\n       [2., 0., 1.],\n       [1., 2., 0.],\n       [1., 1., 1.],\n       [1., 0., 2.],\n       [0., 3., 0.],\n       [0., 2., 1.],\n       [0., 1., 2.],\n       [0., 0., 3.]])"
     },
     "metadata": {},
     "execution_count": 49
    }
   ],
   "source": [
    "out"
   ]
  },
  {
   "cell_type": "code",
   "execution_count": 50,
   "metadata": {},
   "outputs": [
    {
     "output_type": "execute_result",
     "data": {
      "text/plain": "20"
     },
     "metadata": {},
     "execution_count": 50
    }
   ],
   "source": [
    "len(out)"
   ]
  },
  {
   "cell_type": "code",
   "execution_count": null,
   "metadata": {},
   "outputs": [],
   "source": []
  }
 ]
}