{
 "nbformat": 4,
 "nbformat_minor": 2,
 "metadata": {
  "language_info": {
   "name": "python",
   "codemirror_mode": {
    "name": "ipython",
    "version": 3
   },
   "version": "3.7.7-final"
  },
  "orig_nbformat": 2,
  "file_extension": ".py",
  "mimetype": "text/x-python",
  "name": "python",
  "npconvert_exporter": "python",
  "pygments_lexer": "ipython3",
  "version": 3,
  "kernelspec": {
   "name": "python37764bit35ea5608fe5f40f18ddee189641235d7",
   "display_name": "Python 3.7.7 64-bit"
  }
 },
 "cells": [
  {
   "cell_type": "code",
   "execution_count": 3,
   "metadata": {},
   "outputs": [],
   "source": [
    "import itertools\n",
    "import numpy as np\n",
    "import torch"
   ]
  },
  {
   "cell_type": "code",
   "execution_count": 4,
   "metadata": {},
   "outputs": [],
   "source": [
    "item = [1,2,3,4]"
   ]
  },
  {
   "cell_type": "code",
   "execution_count": 6,
   "metadata": {},
   "outputs": [
    {
     "output_type": "stream",
     "name": "stdout",
     "text": "(1, 1, 1)\n(1, 1, 2)\n(1, 1, 3)\n(1, 1, 4)\n(1, 2, 2)\n(1, 2, 3)\n(1, 2, 4)\n(1, 3, 3)\n(1, 3, 4)\n(1, 4, 4)\n(2, 2, 2)\n(2, 2, 3)\n(2, 2, 4)\n(2, 3, 3)\n(2, 3, 4)\n(2, 4, 4)\n(3, 3, 3)\n(3, 3, 4)\n(3, 4, 4)\n(4, 4, 4)\n"
    }
   ],
   "source": [
    "for x in itertools.combinations_with_replacement(item,3):\n",
    "    print(x)"
   ]
  },
  {
   "cell_type": "code",
   "execution_count": 11,
   "metadata": {},
   "outputs": [],
   "source": [
    "out = torch.combinations(torch.tensor(item),with_replacement=True,r=3)"
   ]
  },
  {
   "cell_type": "code",
   "execution_count": 16,
   "metadata": {},
   "outputs": [
    {
     "output_type": "execute_result",
     "data": {
      "text/plain": "tensor([3, 2, 2, 2, 1, 1, 1, 1, 1, 1, 0, 0, 0, 0, 0, 0, 0, 0, 0, 0])"
     },
     "metadata": {},
     "execution_count": 16
    }
   ],
   "source": [
    "(out==1).sum(axis=1)"
   ]
  },
  {
   "cell_type": "code",
   "execution_count": 43,
   "metadata": {
    "tags": [
     "outputPrepend"
    ]
   },
   "outputs": [
    {
     "output_type": "stream",
     "name": "stdout",
     "text": "[array([], dtype=float64) array([1]) array([2]) array([3]) array([1, 1])\n array([1, 2]) array([1, 3]) array([2, 2]) array([2, 3]) array([3, 3])\n array([1, 1, 1]) array([1, 1, 2]) array([1, 1, 3]) array([1, 2, 2])\n array([1, 2, 3]) array([1, 3, 3]) array([2, 2, 2]) array([2, 2, 3])\n array([2, 3, 3]) array([3, 3, 3])]\n"
    }
   ],
   "source": [
    "dims = [1,2,3]\n",
    "p = 3\n",
    "\n",
    "terms = []\n",
    "for order in range(p+1):\n",
    "    for x in itertools.combinations_with_replacement(dims,order):\n",
    "        terms.append(np.array(x))\n",
    "terms = np.array(terms)\n",
    "print(terms)"
   ]
  },
  {
   "cell_type": "code",
   "execution_count": 44,
   "metadata": {},
   "outputs": [],
   "source": [
    "def convert_terms(terms,dims):\n",
    "    out = np.zeros([len(terms),len(dims)])\n",
    "    for i,term in enumerate(terms):\n",
    "        for j, dim in enumerate(dims):\n",
    "            out[i,j] = (term==dim).sum()\n",
    "    return out"
   ]
  },
  {
   "cell_type": "code",
   "execution_count": 48,
   "metadata": {},
   "outputs": [],
   "source": [
    "out = convert_terms(terms,dims)"
   ]
  },
  {
   "cell_type": "code",
   "execution_count": 49,
   "metadata": {},
   "outputs": [
    {
     "output_type": "execute_result",
     "data": {
      "text/plain": "array([[0., 0., 0.],\n       [1., 0., 0.],\n       [0., 1., 0.],\n       [0., 0., 1.],\n       [2., 0., 0.],\n       [1., 1., 0.],\n       [1., 0., 1.],\n       [0., 2., 0.],\n       [0., 1., 1.],\n       [0., 0., 2.],\n       [3., 0., 0.],\n       [2., 1., 0.],\n       [2., 0., 1.],\n       [1., 2., 0.],\n       [1., 1., 1.],\n       [1., 0., 2.],\n       [0., 3., 0.],\n       [0., 2., 1.],\n       [0., 1., 2.],\n       [0., 0., 3.]])"
     },
     "metadata": {},
     "execution_count": 49
    }
   ],
   "source": [
    "out"
   ]
  },
  {
   "cell_type": "code",
   "execution_count": 50,
   "metadata": {},
   "outputs": [
    {
     "output_type": "execute_result",
     "data": {
      "text/plain": "20"
     },
     "metadata": {},
     "execution_count": 50
    }
   ],
   "source": [
    "len(out)"
   ]
  },
  {
   "cell_type": "code",
   "execution_count": 19,
   "metadata": {},
   "outputs": [
    {
     "output_type": "error",
     "ename": "TypeError",
     "evalue": "tensor() missing 1 required positional arguments: \"data\"",
     "traceback": [
      "\u001b[0;31m---------------------------------------------------------------------------\u001b[0m",
      "\u001b[0;31mTypeError\u001b[0m                                 Traceback (most recent call last)",
      "\u001b[0;32m<ipython-input-19-ebc3ceaa76d2>\u001b[0m in \u001b[0;36m<module>\u001b[0;34m\u001b[0m\n\u001b[0;32m----> 1\u001b[0;31m \u001b[0mtorch\u001b[0m\u001b[0;34m.\u001b[0m\u001b[0mtensor\u001b[0m\u001b[0;34m(\u001b[0m\u001b[0;34m)\u001b[0m\u001b[0;34m\u001b[0m\u001b[0;34m\u001b[0m\u001b[0m\n\u001b[0m",
      "\u001b[0;31mTypeError\u001b[0m: tensor() missing 1 required positional arguments: \"data\""
     ]
    }
   ],
   "source": [
    "torch.tensor()"
   ]
  },
  {
   "cell_type": "code",
   "execution_count": null,
   "metadata": {},
   "outputs": [],
   "source": []
  }
 ]
}