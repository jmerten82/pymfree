{
 "cells": [
  {
   "cell_type": "code",
   "execution_count": 1,
   "metadata": {},
   "outputs": [],
   "source": [
    "import os\n",
    "home = os.getenv(\"HOME\")\n",
    "os.chdir(home+\"/codes/pymfree/\")"
   ]
  },
  {
   "cell_type": "code",
   "execution_count": 2,
   "metadata": {},
   "outputs": [],
   "source": [
    "import torch\n",
    "import numpy as np\n",
    "import sklearn\n",
    "import faiss\n",
    "from sklearn.neighbors import DistanceMetric\n",
    "from pymfree.util.utils import any_norm_nn_search\n",
    "from pymfree.core.function import Norm\n",
    "from pymfree.core.function import L2Norm\n",
    "from pymfree.core.function import L2SquaredNorm\n",
    "from pymfree.util.functional import l2l2"
   ]
  },
  {
   "cell_type": "markdown",
   "metadata": {},
   "source": [
    "## Norm Definitions and Timing"
   ]
  },
  {
   "cell_type": "code",
   "execution_count": 3,
   "metadata": {},
   "outputs": [],
   "source": [
    "x1 = torch.rand(100000,3)\n",
    "x2 = torch.rand(100000,3)\n",
    "x3 = np.random.rand(100000,3)\n",
    "x4 = np.random.rand(100000,3)"
   ]
  },
  {
   "cell_type": "code",
   "execution_count": 4,
   "metadata": {},
   "outputs": [
    {
     "output_type": "execute_result",
     "data": {
      "text/plain": "2"
     },
     "metadata": {},
     "execution_count": 4
    }
   ],
   "source": [
    "len(x1.shape)"
   ]
  },
  {
   "cell_type": "code",
   "execution_count": 5,
   "metadata": {},
   "outputs": [
    {
     "output_type": "stream",
     "name": "stdout",
     "text": "CPU times: user 2.09 ms, sys: 3.65 ms, total: 5.74 ms\nWall time: 1.83 ms\n"
    }
   ],
   "source": [
    "%%time\n",
    "result = F.l2(x1)"
   ]
  },
  {
   "cell_type": "code",
   "execution_count": 6,
   "metadata": {},
   "outputs": [
    {
     "output_type": "stream",
     "name": "stdout",
     "text": "CPU times: user 5.38 ms, sys: 0 ns, total: 5.38 ms\nWall time: 1.24 ms\n"
    }
   ],
   "source": [
    "%%time \n",
    "result = F.l2(x1-x2)"
   ]
  },
  {
   "cell_type": "code",
   "execution_count": 7,
   "metadata": {},
   "outputs": [],
   "source": [
    "l2_skl = DistanceMetric.get_metric('euclidean')\n",
    "point = [0.,0.,0.]\n",
    "ref = np.empty((1,3))\n",
    "ref[0] = point"
   ]
  },
  {
   "cell_type": "code",
   "execution_count": 8,
   "metadata": {},
   "outputs": [
    {
     "output_type": "stream",
     "name": "stdout",
     "text": "CPU times: user 2.93 ms, sys: 627 µs, total: 3.56 ms\nWall time: 2.73 ms\n"
    }
   ],
   "source": [
    "%%time \n",
    "result = l2_skl.pairwise(x3-x4,ref)"
   ]
  },
  {
   "cell_type": "code",
   "execution_count": 9,
   "metadata": {},
   "outputs": [],
   "source": [
    "my_norm = L2Norm()"
   ]
  },
  {
   "cell_type": "code",
   "execution_count": 10,
   "metadata": {},
   "outputs": [
    {
     "output_type": "stream",
     "name": "stdout",
     "text": "CPU times: user 4.36 ms, sys: 815 µs, total: 5.17 ms\nWall time: 1.12 ms\n"
    }
   ],
   "source": [
    "%%time\n",
    "result = my_norm.NoChecksPair(x1,x2)"
   ]
  },
  {
   "cell_type": "code",
   "execution_count": 11,
   "metadata": {},
   "outputs": [
    {
     "output_type": "execute_result",
     "data": {
      "text/plain": "torch.Tensor"
     },
     "metadata": {},
     "execution_count": 11
    }
   ],
   "source": [
    "type(result)"
   ]
  },
  {
   "cell_type": "code",
   "execution_count": 12,
   "metadata": {},
   "outputs": [
    {
     "output_type": "stream",
     "name": "stdout",
     "text": "CPU times: user 17.6 ms, sys: 0 ns, total: 17.6 ms\nWall time: 4.18 ms\n"
    }
   ],
   "source": [
    "%%time\n",
    "my_norm.array_out = True\n",
    "result = my_norm(x3,x4)"
   ]
  },
  {
   "cell_type": "code",
   "execution_count": 13,
   "metadata": {},
   "outputs": [],
   "source": [
    "metric = sklearn.neighbors.DistanceMetric.get_metric('pyfunc',func=my_norm.sklearn_dist)"
   ]
  },
  {
   "cell_type": "code",
   "execution_count": 14,
   "metadata": {
    "tags": [
     "outputPrepend",
     "outputPrepend",
     "outputPrepend",
     "outputPrepend",
     "outputPrepend",
     "outputPrepend",
     "outputPrepend",
     "outputPrepend",
     "outputPrepend",
     "outputPrepend",
     "outputPrepend",
     "outputPrepend",
     "outputPrepend",
     "outputPrepend",
     "outputPrepend",
     "outputPrepend",
     "outputPrepend",
     "outputPrepend",
     "outputPrepend",
     "outputPrepend",
     "outputPrepend",
     "outputPrepend",
     "outputPrepend",
     "outputPrepend",
     "outputPrepend",
     "outputPrepend",
     "outputPrepend",
     "outputPrepend",
     "outputPrepend",
     "outputPrepend",
     "outputPrepend",
     "outputPrepend",
     "outputPrepend",
     "outputPrepend",
     "outputPrepend",
     "outputPrepend",
     "outputPrepend",
     "outputPrepend",
     "outputPrepend",
     "outputPrepend",
     "outputPrepend",
     "outputPrepend",
     "outputPrepend",
     "outputPrepend",
     "outputPrepend",
     "outputPrepend",
     "outputPrepend",
     "outputPrepend",
     "outputPrepend",
     "outputPrepend",
     "outputPrepend",
     "outputPrepend",
     "outputPrepend",
     "outputPrepend",
     "outputPrepend",
     "outputPrepend",
     "outputPrepend",
     "outputPrepend",
     "outputPrepend",
     "outputPrepend",
     "outputPrepend",
     "outputPrepend",
     "outputPrepend",
     "outputPrepend",
     "outputPrepend",
     "outputPrepend",
     "outputPrepend",
     "outputPrepend",
     "outputPrepend",
     "outputPrepend",
     "outputPrepend",
     "outputPrepend",
     "outputPrepend",
     "outputPrepend",
     "outputPrepend",
     "outputPrepend",
     "outputPrepend",
     "outputPrepend",
     "outputPrepend",
     "outputPrepend",
     "outputPrepend",
     "outputPrepend",
     "outputPrepend",
     "outputPrepend",
     "outputPrepend",
     "outputPrepend",
     "outputPrepend",
     "outputPrepend",
     "outputPrepend",
     "outputPrepend",
     "outputPrepend",
     "outputPrepend",
     "outputPrepend",
     "outputPrepend",
     "outputPrepend",
     "outputPrepend",
     "outputPrepend",
     "outputPrepend",
     "outputPrepend",
     "outputPrepend",
     "outputPrepend",
     "outputPrepend",
     "outputPrepend",
     "outputPrepend",
     "outputPrepend",
     "outputPrepend",
     "outputPrepend",
     "outputPrepend",
     "outputPrepend",
     "outputPrepend",
     "outputPrepend",
     "outputPrepend",
     "outputPrepend",
     "outputPrepend",
     "outputPrepend",
     "outputPrepend",
     "outputPrepend",
     "outputPrepend",
     "outputPrepend",
     "outputPrepend",
     "outputPrepend",
     "outputPrepend",
     "outputPrepend",
     "outputPrepend",
     "outputPrepend",
     "outputPrepend",
     "outputPrepend",
     "outputPrepend",
     "outputPrepend",
     "outputPrepend",
     "outputPrepend",
     "outputPrepend",
     "outputPrepend",
     "outputPrepend",
     "outputPrepend",
     "outputPrepend",
     "outputPrepend",
     "outputPrepend",
     "outputPrepend",
     "outputPrepend",
     "outputPrepend",
     "outputPrepend",
     "outputPrepend",
     "outputPrepend",
     "outputPrepend",
     "outputPrepend",
     "outputPrepend",
     "outputPrepend",
     "outputPrepend",
     "outputPrepend",
     "outputPrepend",
     "outputPrepend",
     "outputPrepend",
     "outputPrepend",
     "outputPrepend",
     "outputPrepend",
     "outputPrepend",
     "outputPrepend",
     "outputPrepend",
     "outputPrepend",
     "outputPrepend",
     "outputPrepend",
     "outputPrepend",
     "outputPrepend",
     "outputPrepend",
     "outputPrepend",
     "outputPrepend",
     "outputPrepend",
     "outputPrepend",
     "outputPrepend",
     "outputPrepend",
     "outputPrepend",
     "outputPrepend",
     "outputPrepend",
     "outputPrepend",
     "outputPrepend",
     "outputPrepend",
     "outputPrepend",
     "outputPrepend",
     "outputPrepend",
     "outputPrepend",
     "outputPrepend",
     "outputPrepend",
     "outputPrepend",
     "outputPrepend",
     "outputPrepend",
     "outputPrepend",
     "outputPrepend",
     "outputPrepend",
     "outputPrepend",
     "outputPrepend",
     "outputPrepend",
     "outputPrepend",
     "outputPrepend",
     "outputPrepend",
     "outputPrepend",
     "outputPrepend",
     "outputPrepend",
     "outputPrepend",
     "outputPrepend",
     "outputPrepend",
     "outputPrepend",
     "outputPrepend",
     "outputPrepend",
     "outputPrepend",
     "outputPrepend",
     "outputPrepend",
     "outputPrepend",
     "outputPrepend",
     "outputPrepend",
     "outputPrepend",
     "outputPrepend",
     "outputPrepend",
     "outputPrepend",
     "outputPrepend",
     "outputPrepend",
     "outputPrepend",
     "outputPrepend",
     "outputPrepend",
     "outputPrepend",
     "outputPrepend",
     "outputPrepend",
     "outputPrepend",
     "outputPrepend",
     "outputPrepend",
     "outputPrepend",
     "outputPrepend",
     "outputPrepend",
     "outputPrepend",
     "outputPrepend",
     "outputPrepend",
     "outputPrepend",
     "outputPrepend",
     "outputPrepend",
     "outputPrepend",
     "outputPrepend",
     "outputPrepend",
     "outputPrepend",
     "outputPrepend",
     "outputPrepend",
     "outputPrepend",
     "outputPrepend",
     "outputPrepend",
     "outputPrepend",
     "outputPrepend",
     "outputPrepend",
     "outputPrepend",
     "outputPrepend",
     "outputPrepend",
     "outputPrepend",
     "outputPrepend",
     "outputPrepend",
     "outputPrepend",
     "outputPrepend",
     "outputPrepend",
     "outputPrepend",
     "outputPrepend",
     "outputPrepend",
     "outputPrepend",
     "outputPrepend",
     "outputPrepend",
     "outputPrepend",
     "outputPrepend",
     "outputPrepend",
     "outputPrepend",
     "outputPrepend",
     "outputPrepend",
     "outputPrepend",
     "outputPrepend",
     "outputPrepend",
     "outputPrepend",
     "outputPrepend",
     "outputPrepend",
     "outputPrepend",
     "outputPrepend",
     "outputPrepend",
     "outputPrepend",
     "outputPrepend",
     "outputPrepend",
     "outputPrepend",
     "outputPrepend",
     "outputPrepend",
     "outputPrepend"
    ]
   },
   "outputs": [
    {
     "output_type": "stream",
     "name": "stdout",
     "text": "CPU times: user 4.25 s, sys: 0 ns, total: 4.25 s\nWall time: 4.25 s\n"
    }
   ],
   "source": [
    "%%time\n",
    "result = metric.pairwise(x3-x4, ref)"
   ]
  },
  {
   "cell_type": "code",
   "execution_count": 19,
   "metadata": {},
   "outputs": [
    {
     "output_type": "execute_result",
     "data": {
      "text/plain": "array([[0.6762106 ],\n       [0.48675421],\n       [0.66289467],\n       ...,\n       [0.81493543],\n       [0.86552196],\n       [0.50522523]])"
     },
     "metadata": {},
     "execution_count": 19
    }
   ],
   "source": [
    "result"
   ]
  },
  {
   "cell_type": "code",
   "execution_count": 16,
   "metadata": {},
   "outputs": [
    {
     "output_type": "error",
     "ename": "TypeError",
     "evalue": "PyMFree Norm: Need torch Tensor of shape (n,d).",
     "traceback": [
      "\u001b[0;31m---------------------------------------------------------------------------\u001b[0m",
      "\u001b[0;31mTypeError\u001b[0m                                 Traceback (most recent call last)",
      "\u001b[0;32m<ipython-input-16-3e585c62ded9>\u001b[0m in \u001b[0;36m<module>\u001b[0;34m\u001b[0m\n\u001b[0;32m----> 1\u001b[0;31m \u001b[0mmy_norm\u001b[0m\u001b[0;34m.\u001b[0m\u001b[0msklearn_dist\u001b[0m\u001b[0;34m(\u001b[0m\u001b[0mx1\u001b[0m\u001b[0;34m,\u001b[0m\u001b[0mref\u001b[0m\u001b[0;34m)\u001b[0m\u001b[0;34m\u001b[0m\u001b[0;34m\u001b[0m\u001b[0m\n\u001b[0m",
      "\u001b[0;32m~/codes/pymfree/pymfree/core/norm.py\u001b[0m in \u001b[0;36msklearn_dist\u001b[0;34m(self, x1, x2)\u001b[0m\n\u001b[1;32m    189\u001b[0m         \u001b[0mx1\u001b[0m \u001b[0;34m=\u001b[0m \u001b[0mtorch\u001b[0m\u001b[0;34m.\u001b[0m\u001b[0mtensor\u001b[0m\u001b[0;34m(\u001b[0m\u001b[0mx1\u001b[0m\u001b[0;34m)\u001b[0m\u001b[0;34m.\u001b[0m\u001b[0munsqueeze\u001b[0m\u001b[0;34m(\u001b[0m\u001b[0mdim\u001b[0m\u001b[0;34m=\u001b[0m\u001b[0;36m0\u001b[0m\u001b[0;34m)\u001b[0m\u001b[0;34m\u001b[0m\u001b[0;34m\u001b[0m\u001b[0m\n\u001b[1;32m    190\u001b[0m         \u001b[0mx2\u001b[0m \u001b[0;34m=\u001b[0m \u001b[0mtorch\u001b[0m\u001b[0;34m.\u001b[0m\u001b[0mtensor\u001b[0m\u001b[0;34m(\u001b[0m\u001b[0mx2\u001b[0m\u001b[0;34m)\u001b[0m\u001b[0;34m.\u001b[0m\u001b[0munsqueeze\u001b[0m\u001b[0;34m(\u001b[0m\u001b[0mdim\u001b[0m\u001b[0;34m=\u001b[0m\u001b[0;36m0\u001b[0m\u001b[0;34m)\u001b[0m\u001b[0;34m\u001b[0m\u001b[0;34m\u001b[0m\u001b[0m\n\u001b[0;32m--> 191\u001b[0;31m         \u001b[0;32mreturn\u001b[0m \u001b[0mself\u001b[0m\u001b[0;34m(\u001b[0m\u001b[0mx1\u001b[0m\u001b[0;34m-\u001b[0m\u001b[0mx2\u001b[0m\u001b[0;34m)\u001b[0m\u001b[0;34m.\u001b[0m\u001b[0msqueeze\u001b[0m\u001b[0;34m(\u001b[0m\u001b[0;34m)\u001b[0m\u001b[0;34m\u001b[0m\u001b[0;34m\u001b[0m\u001b[0m\n\u001b[0m\u001b[1;32m    192\u001b[0m \u001b[0;34m\u001b[0m\u001b[0m\n\u001b[1;32m    193\u001b[0m \u001b[0;32mclass\u001b[0m \u001b[0mL2Norm\u001b[0m\u001b[0;34m(\u001b[0m\u001b[0mNorm\u001b[0m\u001b[0;34m)\u001b[0m\u001b[0;34m:\u001b[0m\u001b[0;34m\u001b[0m\u001b[0;34m\u001b[0m\u001b[0m\n",
      "\u001b[0;32m~/codes/pymfree/pymfree/core/norm.py\u001b[0m in \u001b[0;36m__call__\u001b[0;34m(self, x1, x2)\u001b[0m\n\u001b[1;32m    121\u001b[0m \u001b[0;34m\u001b[0m\u001b[0m\n\u001b[1;32m    122\u001b[0m         \u001b[0;32mif\u001b[0m \u001b[0mlen\u001b[0m\u001b[0;34m(\u001b[0m\u001b[0mx1\u001b[0m\u001b[0;34m.\u001b[0m\u001b[0mshape\u001b[0m\u001b[0;34m)\u001b[0m \u001b[0;34m!=\u001b[0m \u001b[0;36m2\u001b[0m\u001b[0;34m:\u001b[0m\u001b[0;34m\u001b[0m\u001b[0;34m\u001b[0m\u001b[0m\n\u001b[0;32m--> 123\u001b[0;31m             \u001b[0;32mraise\u001b[0m \u001b[0mTypeError\u001b[0m\u001b[0;34m(\u001b[0m\u001b[0;34m\"PyMFree Norm: Need torch Tensor of shape (n,d).\"\u001b[0m\u001b[0;34m)\u001b[0m\u001b[0;34m\u001b[0m\u001b[0;34m\u001b[0m\u001b[0m\n\u001b[0m\u001b[1;32m    124\u001b[0m         \u001b[0;32mif\u001b[0m \u001b[0mx2\u001b[0m \u001b[0;32mis\u001b[0m \u001b[0;32mnot\u001b[0m \u001b[0;32mNone\u001b[0m\u001b[0;34m:\u001b[0m\u001b[0;34m\u001b[0m\u001b[0;34m\u001b[0m\u001b[0m\n\u001b[1;32m    125\u001b[0m             \u001b[0;32mif\u001b[0m \u001b[0;32mnot\u001b[0m \u001b[0misinstance\u001b[0m\u001b[0;34m(\u001b[0m\u001b[0mx2\u001b[0m\u001b[0;34m,\u001b[0m \u001b[0mtorch\u001b[0m\u001b[0;34m.\u001b[0m\u001b[0mTensor\u001b[0m\u001b[0;34m)\u001b[0m\u001b[0;34m:\u001b[0m\u001b[0;34m\u001b[0m\u001b[0;34m\u001b[0m\u001b[0m\n",
      "\u001b[0;31mTypeError\u001b[0m: PyMFree Norm: Need torch Tensor of shape (n,d)."
     ]
    }
   ],
   "source": [
    "my_norm.sklearn_dist(x1,ref)"
   ]
  },
  {
   "cell_type": "code",
   "execution_count": 17,
   "metadata": {},
   "outputs": [],
   "source": [
    "x5 = np.random.rand(3)\n",
    "x6 = np.random.rand(3)"
   ]
  },
  {
   "cell_type": "code",
   "execution_count": 18,
   "metadata": {},
   "outputs": [
    {
     "output_type": "execute_result",
     "data": {
      "text/plain": "array(1.05026461)"
     },
     "metadata": {},
     "execution_count": 18
    }
   ],
   "source": [
    "my_norm.sklearn_dist(x5,x6)"
   ]
  },
  {
   "cell_type": "code",
   "execution_count": 22,
   "metadata": {},
   "outputs": [
    {
     "output_type": "execute_result",
     "data": {
      "text/plain": "True"
     },
     "metadata": {},
     "execution_count": 22
    }
   ],
   "source": [
    "isinstance(my_norm, L2Norm)"
   ]
  },
  {
   "cell_type": "code",
   "execution_count": 23,
   "metadata": {},
   "outputs": [],
   "source": [
    "x = torch.rand(10,10,10)"
   ]
  },
  {
   "cell_type": "code",
   "execution_count": 28,
   "metadata": {},
   "outputs": [
    {
     "output_type": "stream",
     "name": "stdout",
     "text": "torch.Size([10, 10])\ntorch.Size([10, 10])\ntorch.Size([10, 10])\ntorch.Size([10, 10])\ntorch.Size([10, 10])\ntorch.Size([10, 10])\ntorch.Size([10, 10])\ntorch.Size([10, 10])\ntorch.Size([10, 10])\ntorch.Size([10, 10])\n"
    }
   ],
   "source": [
    "for line in x:\n",
    "    print(line.shape)"
   ]
  },
  {
   "cell_type": "code",
   "execution_count": 15,
   "metadata": {},
   "outputs": [],
   "source": [
    "def test_f(x):\n",
    "    return x.shape"
   ]
  },
  {
   "cell_type": "code",
   "execution_count": 22,
   "metadata": {},
   "outputs": [
    {
     "output_type": "stream",
     "name": "stdout",
     "text": "test_f() takes 1 positional argument but 2 were given\n"
    }
   ],
   "source": [
    "try:\n",
    "    test_f(torch.rand(10), torch.rand(8))\n",
    "except Exception as e:\n",
    "    print(e)"
   ]
  },
  {
   "cell_type": "code",
   "execution_count": 8,
   "metadata": {},
   "outputs": [],
   "source": [
    "r = torch.rand(10)"
   ]
  },
  {
   "cell_type": "code",
   "execution_count": 9,
   "metadata": {},
   "outputs": [
    {
     "output_type": "execute_result",
     "data": {
      "text/plain": "tensor([0.5141, 0.9239, 0.9965, 0.9999, 0.5335, 0.9941, 0.4266, 0.5710, 0.9744,\n        0.4943])"
     },
     "metadata": {},
     "execution_count": 9
    }
   ],
   "source": [
    "torch.exp(-torch.pow(r, 2))"
   ]
  },
  {
   "cell_type": "code",
   "execution_count": 11,
   "metadata": {},
   "outputs": [
    {
     "output_type": "execute_result",
     "data": {
      "text/plain": "torch.Size([])"
     },
     "metadata": {},
     "execution_count": 11
    }
   ],
   "source": [
    "torch.tensor(0).shape"
   ]
  },
  {
   "cell_type": "code",
   "execution_count": 12,
   "metadata": {},
   "outputs": [],
   "source": [
    "mine = {'test' : 1, 'test2' : 2.}"
   ]
  },
  {
   "cell_type": "code",
   "execution_count": 13,
   "metadata": {},
   "outputs": [
    {
     "output_type": "execute_result",
     "data": {
      "text/plain": "{'test': 1, 'test2': 2.0}"
     },
     "metadata": {},
     "execution_count": 13
    }
   ],
   "source": [
    "mine"
   ]
  },
  {
   "cell_type": "code",
   "execution_count": 14,
   "metadata": {},
   "outputs": [
    {
     "output_type": "execute_result",
     "data": {
      "text/plain": "dict_values([1, 2.0])"
     },
     "metadata": {},
     "execution_count": 14
    }
   ],
   "source": [
    "mine.values()"
   ]
  },
  {
   "cell_type": "code",
   "execution_count": null,
   "metadata": {},
   "outputs": [],
   "source": [
    "for key, x in mine.values()\n"
   ]
  },
  {
   "cell_type": "code",
   "execution_count": 16,
   "metadata": {},
   "outputs": [],
   "source": [
    "test3 =[]\n",
    "test4= []"
   ]
  },
  {
   "cell_type": "code",
   "execution_count": 33,
   "metadata": {},
   "outputs": [],
   "source": [
    "test3, test4 = zip(*[(key,x) for key, x in mine.items()])"
   ]
  },
  {
   "cell_type": "code",
   "execution_count": 21,
   "metadata": {},
   "outputs": [
    {
     "output_type": "error",
     "ename": "TypeError",
     "evalue": "cannot unpack non-iterable int object",
     "traceback": [
      "\u001b[0;31m---------------------------------------------------------------------------\u001b[0m",
      "\u001b[0;31mTypeError\u001b[0m                                 Traceback (most recent call last)",
      "\u001b[0;32m<ipython-input-21-02f3a2f424d0>\u001b[0m in \u001b[0;36m<module>\u001b[0;34m\u001b[0m\n\u001b[0;32m----> 1\u001b[0;31m \u001b[0;32mfor\u001b[0m \u001b[0mkey\u001b[0m\u001b[0;34m,\u001b[0m \u001b[0mvalue\u001b[0m \u001b[0;32min\u001b[0m \u001b[0mmine\u001b[0m\u001b[0;34m.\u001b[0m\u001b[0mvalues\u001b[0m\u001b[0;34m(\u001b[0m\u001b[0;34m)\u001b[0m\u001b[0;34m:\u001b[0m\u001b[0;34m\u001b[0m\u001b[0;34m\u001b[0m\u001b[0m\n\u001b[0m\u001b[1;32m      2\u001b[0m     \u001b[0mprint\u001b[0m\u001b[0;34m(\u001b[0m\u001b[0mkey\u001b[0m\u001b[0;34m)\u001b[0m\u001b[0;34m\u001b[0m\u001b[0;34m\u001b[0m\u001b[0m\n",
      "\u001b[0;31mTypeError\u001b[0m: cannot unpack non-iterable int object"
     ]
    }
   ],
   "source": [
    "for key, value in mine.values():\n",
    "    print(key)"
   ]
  },
  {
   "cell_type": "code",
   "execution_count": 22,
   "metadata": {},
   "outputs": [
    {
     "output_type": "execute_result",
     "data": {
      "text/plain": "{'test': 1, 'test2': 2.0}"
     },
     "metadata": {},
     "execution_count": 22
    }
   ],
   "source": [
    "mine"
   ]
  },
  {
   "cell_type": "code",
   "execution_count": 24,
   "metadata": {},
   "outputs": [
    {
     "output_type": "execute_result",
     "data": {
      "text/plain": "[1, 2.0]"
     },
     "metadata": {},
     "execution_count": 24
    }
   ],
   "source": [
    "test3"
   ]
  },
  {
   "cell_type": "code",
   "execution_count": 29,
   "metadata": {},
   "outputs": [
    {
     "output_type": "execute_result",
     "data": {
      "text/plain": "('test', 1)"
     },
     "metadata": {},
     "execution_count": 29
    }
   ],
   "source": [
    "test3"
   ]
  },
  {
   "cell_type": "code",
   "execution_count": 35,
   "metadata": {},
   "outputs": [
    {
     "output_type": "execute_result",
     "data": {
      "text/plain": "(1, 2.0)"
     },
     "metadata": {},
     "execution_count": 35
    }
   ],
   "source": [
    "test4"
   ]
  },
  {
   "cell_type": "code",
   "execution_count": 37,
   "metadata": {},
   "outputs": [
    {
     "output_type": "execute_result",
     "data": {
      "text/plain": "torch.device"
     },
     "metadata": {},
     "execution_count": 37
    }
   ],
   "source": [
    "type(torch.device('cpu'))"
   ]
  },
  {
   "cell_type": "code",
   "execution_count": 38,
   "metadata": {},
   "outputs": [],
   "source": [
    "x = torch.rand(30)"
   ]
  },
  {
   "cell_type": "code",
   "execution_count": 40,
   "metadata": {},
   "outputs": [],
   "source": [
    "x = x.to(torch.device('cpu'))"
   ]
  },
  {
   "cell_type": "code",
   "execution_count": 41,
   "metadata": {},
   "outputs": [
    {
     "output_type": "execute_result",
     "data": {
      "text/plain": "tensor([0.7993, 0.6759, 0.2407, 0.9368, 0.2786, 0.1179, 0.2627, 0.7775, 0.9536,\n        0.2038, 0.8492, 0.4192, 0.5474, 0.7776, 0.8183, 0.5241, 0.6989, 0.6648,\n        0.8443, 0.1373, 0.1285, 0.0577, 0.5034, 0.8627, 0.2614, 0.9515, 0.9469,\n        0.5260, 0.6852, 0.3917])"
     },
     "metadata": {},
     "execution_count": 41
    }
   ],
   "source": [
    "x"
   ]
  },
  {
   "cell_type": "code",
   "execution_count": 42,
   "metadata": {},
   "outputs": [
    {
     "output_type": "execute_result",
     "data": {
      "text/plain": "device(type='cpu')"
     },
     "metadata": {},
     "execution_count": 42
    }
   ],
   "source": [
    "x.device"
   ]
  },
  {
   "cell_type": "code",
   "execution_count": 45,
   "metadata": {},
   "outputs": [],
   "source": [
    "class fake_class(object):\n",
    "    def __init__(self):\n",
    "        self.name = self.__class__.__name__\n",
    "\n",
    "    def __str__(self):\n",
    "        return str(self.name)\n",
    "    def __repr__(self):\n",
    "        print(self)"
   ]
  },
  {
   "cell_type": "code",
   "execution_count": 46,
   "metadata": {},
   "outputs": [],
   "source": [
    "my_class = fake_class"
   ]
  },
  {
   "cell_type": "code",
   "execution_count": 47,
   "metadata": {},
   "outputs": [
    {
     "output_type": "stream",
     "name": "stdout",
     "text": "<class '__main__.fake_class'>\n"
    }
   ],
   "source": [
    "print(fake_class)"
   ]
  },
  {
   "cell_type": "code",
   "execution_count": 57,
   "metadata": {},
   "outputs": [],
   "source": [
    "x = fake_class"
   ]
  },
  {
   "cell_type": "code",
   "execution_count": 50,
   "metadata": {},
   "outputs": [],
   "source": [
    "def my_func():\n",
    "    return 4"
   ]
  },
  {
   "cell_type": "code",
   "execution_count": 54,
   "metadata": {},
   "outputs": [
    {
     "output_type": "execute_result",
     "data": {
      "text/plain": "'function'"
     },
     "metadata": {},
     "execution_count": 54
    }
   ],
   "source": [
    "my_func.__class__.__name__"
   ]
  },
  {
   "cell_type": "code",
   "execution_count": 55,
   "metadata": {},
   "outputs": [],
   "source": [
    "x =str(my_func)[]"
   ]
  },
  {
   "cell_type": "code",
   "execution_count": 56,
   "metadata": {},
   "outputs": [
    {
     "output_type": "execute_result",
     "data": {
      "text/plain": "'<function my_func at 0x7fdfca07f680>'"
     },
     "metadata": {},
     "execution_count": 56
    }
   ],
   "source": [
    "x"
   ]
  },
  {
   "cell_type": "code",
   "execution_count": 61,
   "metadata": {},
   "outputs": [],
   "source": [
    "x = str(x)"
   ]
  },
  {
   "cell_type": "code",
   "execution_count": 62,
   "metadata": {},
   "outputs": [
    {
     "output_type": "execute_result",
     "data": {
      "text/plain": "str"
     },
     "metadata": {},
     "execution_count": 62
    }
   ],
   "source": [
    "type(x)"
   ]
  },
  {
   "cell_type": "code",
   "execution_count": 70,
   "metadata": {},
   "outputs": [],
   "source": [
    "one = x[x.rfind('.')+1:x.rfind('\\'')]"
   ]
  },
  {
   "cell_type": "code",
   "execution_count": 71,
   "metadata": {},
   "outputs": [],
   "source": [
    "two = str(my_func).split(' ')[1]"
   ]
  },
  {
   "cell_type": "code",
   "execution_count": 76,
   "metadata": {},
   "outputs": [],
   "source": [
    "final = one + \"\\n\\n\" +two"
   ]
  },
  {
   "cell_type": "code",
   "execution_count": 77,
   "metadata": {},
   "outputs": [
    {
     "output_type": "stream",
     "name": "stdout",
     "text": "fake_class\n\nmy_func\n"
    }
   ],
   "source": [
    "print(final)"
   ]
  },
  {
   "cell_type": "code",
   "execution_count": 78,
   "metadata": {},
   "outputs": [],
   "source": [
    "test = {'one' : 1, 'two' : 2}"
   ]
  },
  {
   "cell_type": "code",
   "execution_count": 79,
   "metadata": {},
   "outputs": [
    {
     "output_type": "execute_result",
     "data": {
      "text/plain": "\"{'one': 1, 'two': 2}\""
     },
     "metadata": {},
     "execution_count": 79
    }
   ],
   "source": [
    "str(test)"
   ]
  },
  {
   "cell_type": "code",
   "execution_count": 80,
   "metadata": {},
   "outputs": [
    {
     "output_type": "execute_result",
     "data": {
      "text/plain": "dict_values([1, 2])"
     },
     "metadata": {},
     "execution_count": 80
    }
   ],
   "source": [
    "test.values()"
   ]
  },
  {
   "cell_type": "code",
   "execution_count": 81,
   "metadata": {},
   "outputs": [],
   "source": [
    "x = list(test.values())\n",
    "y = list(test.keys())"
   ]
  },
  {
   "cell_type": "code",
   "execution_count": 82,
   "metadata": {},
   "outputs": [
    {
     "output_type": "execute_result",
     "data": {
      "text/plain": "[1, 2]"
     },
     "metadata": {},
     "execution_count": 82
    }
   ],
   "source": [
    "x"
   ]
  },
  {
   "cell_type": "code",
   "execution_count": 86,
   "metadata": {},
   "outputs": [],
   "source": [
    "x2 = torch.rand(2)"
   ]
  },
  {
   "cell_type": "code",
   "execution_count": 84,
   "metadata": {},
   "outputs": [
    {
     "output_type": "execute_result",
     "data": {
      "text/plain": "['one', 'two']"
     },
     "metadata": {},
     "execution_count": 84
    }
   ],
   "source": [
    "y = t"
   ]
  },
  {
   "cell_type": "code",
   "execution_count": 88,
   "metadata": {},
   "outputs": [
    {
     "output_type": "execute_result",
     "data": {
      "text/plain": "{'one': tensor(0.2945), 'two': tensor(0.9416)}"
     },
     "metadata": {},
     "execution_count": 88
    }
   ],
   "source": [
    "{key: value for (key,value) in zip(y,x2)}"
   ]
  },
  {
   "cell_type": "code",
   "execution_count": 89,
   "metadata": {},
   "outputs": [
    {
     "output_type": "execute_result",
     "data": {
      "text/plain": "True"
     },
     "metadata": {},
     "execution_count": 89
    }
   ],
   "source": [
    "isinstance(x2, torch.Tensor)"
   ]
  },
  {
   "cell_type": "code",
   "execution_count": 91,
   "metadata": {},
   "outputs": [
    {
     "output_type": "execute_result",
     "data": {
      "text/plain": "True"
     },
     "metadata": {},
     "execution_count": 91
    }
   ],
   "source": [
    "isinstance(y, list)"
   ]
  },
  {
   "cell_type": "code",
   "execution_count": 103,
   "metadata": {},
   "outputs": [],
   "source": [
    "test = list(range(20))"
   ]
  },
  {
   "cell_type": "code",
   "execution_count": 100,
   "metadata": {},
   "outputs": [
    {
     "output_type": "execute_result",
     "data": {
      "text/plain": "[0, 1, 2, 3, 4, 5, 6, 7, 8, 9, 10, 11, 12, 13, 14, 15, 16, 17, 18, 19]"
     },
     "metadata": {},
     "execution_count": 100
    }
   ],
   "source": [
    "test"
   ]
  },
  {
   "cell_type": "code",
   "execution_count": 101,
   "metadata": {},
   "outputs": [
    {
     "output_type": "error",
     "ename": "AttributeError",
     "evalue": "'list' object has no attribute 'shape'",
     "traceback": [
      "\u001b[0;31m---------------------------------------------------------------------------\u001b[0m",
      "\u001b[0;31mAttributeError\u001b[0m                            Traceback (most recent call last)",
      "\u001b[0;32m<ipython-input-101-8ae592785626>\u001b[0m in \u001b[0;36m<module>\u001b[0;34m\u001b[0m\n\u001b[0;32m----> 1\u001b[0;31m \u001b[0mtest\u001b[0m\u001b[0;34m.\u001b[0m\u001b[0mshape\u001b[0m\u001b[0;34m\u001b[0m\u001b[0;34m\u001b[0m\u001b[0m\n\u001b[0m",
      "\u001b[0;31mAttributeError\u001b[0m: 'list' object has no attribute 'shape'"
     ]
    }
   ],
   "source": [
    "test.shape"
   ]
  },
  {
   "cell_type": "code",
   "execution_count": 104,
   "metadata": {},
   "outputs": [],
   "source": [
    "test = np.array(test)"
   ]
  },
  {
   "cell_type": "code",
   "execution_count": 105,
   "metadata": {},
   "outputs": [
    {
     "output_type": "execute_result",
     "data": {
      "text/plain": "array([ 0,  1,  2,  3,  4,  5,  6,  7,  8,  9, 10, 11, 12, 13, 14, 15, 16,\n       17, 18, 19])"
     },
     "metadata": {},
     "execution_count": 105
    }
   ],
   "source": [
    "test"
   ]
  },
  {
   "cell_type": "code",
   "execution_count": 107,
   "metadata": {},
   "outputs": [
    {
     "output_type": "execute_result",
     "data": {
      "text/plain": "2"
     },
     "metadata": {},
     "execution_count": 107
    }
   ],
   "source": [
    "len(test)%3"
   ]
  },
  {
   "cell_type": "code",
   "execution_count": 113,
   "metadata": {},
   "outputs": [
    {
     "output_type": "execute_result",
     "data": {
      "text/plain": "array([[ 0,  1,  2],\n       [ 3,  4,  5],\n       [ 6,  7,  8],\n       [ 9, 10, 11],\n       [12, 13, 14],\n       [15, 16, 17]])"
     },
     "metadata": {},
     "execution_count": 113
    }
   ],
   "source": [
    "test[:-(len(test)%3)].reshape(-1,3)"
   ]
  },
  {
   "cell_type": "code",
   "execution_count": 128,
   "metadata": {},
   "outputs": [],
   "source": [
    "coordinates = np.arange(20)\n",
    "dim=3"
   ]
  },
  {
   "cell_type": "code",
   "execution_count": 129,
   "metadata": {},
   "outputs": [],
   "source": [
    "node_coordinates = torch.tensor(coordinates)[\n",
    "                :-(len(coordinates) % dim)].reshape(-1,dim)"
   ]
  },
  {
   "cell_type": "code",
   "execution_count": 130,
   "metadata": {},
   "outputs": [
    {
     "output_type": "execute_result",
     "data": {
      "text/plain": "tensor([[ 0,  1,  2],\n        [ 3,  4,  5],\n        [ 6,  7,  8],\n        [ 9, 10, 11],\n        [12, 13, 14],\n        [15, 16, 17]])"
     },
     "metadata": {},
     "execution_count": 130
    }
   ],
   "source": [
    "node_coordinates"
   ]
  },
  {
   "cell_type": "code",
   "execution_count": 123,
   "metadata": {},
   "outputs": [
    {
     "output_type": "execute_result",
     "data": {
      "text/plain": "tensor([[ 0,  1,  2],\n        [ 3,  4,  5],\n        [ 6,  7,  8],\n        [ 9, 10, 11],\n        [12, 13, 14],\n        [15, 16, 17]])"
     },
     "metadata": {},
     "execution_count": 123
    }
   ],
   "source": [
    "torch.tensor(node_coordinates)"
   ]
  },
  {
   "cell_type": "code",
   "execution_count": 131,
   "metadata": {},
   "outputs": [
    {
     "output_type": "execute_result",
     "data": {
      "text/plain": "torch.int64"
     },
     "metadata": {},
     "execution_count": 131
    }
   ],
   "source": [
    "node_coordinates.dtype"
   ]
  },
  {
   "cell_type": "code",
   "execution_count": 132,
   "metadata": {},
   "outputs": [
    {
     "output_type": "error",
     "ename": "TypeError",
     "evalue": "object of type 'NoneType' has no len()",
     "traceback": [
      "\u001b[0;31m---------------------------------------------------------------------------\u001b[0m",
      "\u001b[0;31mTypeError\u001b[0m                                 Traceback (most recent call last)",
      "\u001b[0;32m<ipython-input-132-96b07938784c>\u001b[0m in \u001b[0;36m<module>\u001b[0;34m\u001b[0m\n\u001b[0;32m----> 1\u001b[0;31m \u001b[0mlen\u001b[0m\u001b[0;34m(\u001b[0m\u001b[0;32mNone\u001b[0m\u001b[0;34m)\u001b[0m\u001b[0;34m\u001b[0m\u001b[0;34m\u001b[0m\u001b[0m\n\u001b[0m",
      "\u001b[0;31mTypeError\u001b[0m: object of type 'NoneType' has no len()"
     ]
    }
   ],
   "source": [
    "len(None)"
   ]
  },
  {
   "cell_type": "code",
   "execution_count": 1,
   "metadata": {},
   "outputs": [],
   "source": [
    "import faiss\n",
    "import torch\n",
    "import sklearn\n",
    "from sklearn.neighbors import KDTree"
   ]
  },
  {
   "cell_type": "code",
   "execution_count": 2,
   "metadata": {},
   "outputs": [],
   "source": [
    "coordinates = torch.rand(100000,3)\n",
    "query = torch.rand(100000,3)\n",
    "k = 32"
   ]
  },
  {
   "cell_type": "code",
   "execution_count": 5,
   "metadata": {},
   "outputs": [
    {
     "output_type": "stream",
     "name": "stdout",
     "text": "CPU times: user 3.57 ms, sys: 0 ns, total: 3.57 ms\nWall time: 3.13 ms\n"
    }
   ],
   "source": [
    "%%time\n",
    "index1 = faiss.IndexFlat(3)\n",
    "index1.add(coordinates.numpy())"
   ]
  },
  {
   "cell_type": "code",
   "execution_count": 7,
   "metadata": {},
   "outputs": [
    {
     "output_type": "stream",
     "name": "stdout",
     "text": "CPU times: user 98.6 ms, sys: 0 ns, total: 98.6 ms\nWall time: 97.2 ms\n"
    }
   ],
   "source": [
    "%%time\n",
    "index2 = KDTree(coordinates)"
   ]
  },
  {
   "cell_type": "code",
   "execution_count": 9,
   "metadata": {},
   "outputs": [
    {
     "output_type": "stream",
     "name": "stdout",
     "text": "CPU times: user 41.8 s, sys: 120 ms, total: 41.9 s\nWall time: 10.5 s\n"
    }
   ],
   "source": [
    "%%time\n",
    "x1, d1= index1.search(query.numpy(),k)"
   ]
  },
  {
   "cell_type": "code",
   "execution_count": 10,
   "metadata": {},
   "outputs": [
    {
     "output_type": "stream",
     "name": "stdout",
     "text": "CPU times: user 1.69 s, sys: 32 ms, total: 1.72 s\nWall time: 1.72 s\n"
    }
   ],
   "source": [
    "%%time\n",
    "x2, d2 = index2.query(query,k)"
   ]
  },
  {
   "cell_type": "code",
   "execution_count": 39,
   "metadata": {},
   "outputs": [
    {
     "output_type": "execute_result",
     "data": {
      "text/plain": "array([[8.2731247e-05, 2.7394295e-04, 3.7622452e-04, ..., 1.9688606e-03,\n        2.0182133e-03, 2.0627975e-03],\n       [3.3664703e-04, 4.6634674e-04, 4.8971176e-04, ..., 1.7213821e-03,\n        1.7743111e-03, 1.8014908e-03],\n       [2.4986267e-04, 3.0303001e-04, 5.3858757e-04, ..., 1.8742085e-03,\n        1.9509792e-03, 2.0077229e-03],\n       ...,\n       [1.3041496e-04, 5.3596497e-04, 6.0832500e-04, ..., 2.2336245e-03,\n        2.2453070e-03, 2.3525953e-03],\n       [3.1948090e-05, 2.1600723e-04, 2.6130676e-04, ..., 1.6522408e-03,\n        1.6646385e-03, 1.7936230e-03],\n       [5.3763390e-05, 8.2015991e-05, 1.1730194e-04, ..., 1.4933348e-03,\n        1.5386343e-03, 1.7747879e-03]], dtype=float32)"
     },
     "metadata": {},
     "execution_count": 39
    }
   ],
   "source": [
    "x1"
   ]
  },
  {
   "cell_type": "code",
   "execution_count": 40,
   "metadata": {},
   "outputs": [
    {
     "output_type": "execute_result",
     "data": {
      "text/plain": "array([[0.0091032 , 0.01654602, 0.01939925, ..., 0.04437368, 0.04492363,\n        0.04541758],\n       [0.01835218, 0.02159179, 0.02212849, ..., 0.04148451, 0.04212629,\n        0.04244359],\n       [0.01580528, 0.01740968, 0.0232074 , ..., 0.04329294, 0.04417083,\n        0.04480761],\n       ...,\n       [0.01141704, 0.02315022, 0.02466356, ..., 0.04726098, 0.047384  ,\n        0.04850485],\n       [0.00564214, 0.0147009 , 0.01616   , ..., 0.04064754, 0.04079976,\n        0.04235285],\n       [0.00733661, 0.00905695, 0.01082708, ..., 0.03864441, 0.03922567,\n        0.04212815]])"
     },
     "metadata": {},
     "execution_count": 40
    }
   ],
   "source": [
    "x2"
   ]
  },
  {
   "cell_type": "code",
   "execution_count": 41,
   "metadata": {},
   "outputs": [
    {
     "output_type": "execute_result",
     "data": {
      "text/plain": "8.286825024e-05"
     },
     "metadata": {},
     "execution_count": 41
    }
   ],
   "source": [
    "0.0091032*0.0091032"
   ]
  },
  {
   "cell_type": "code",
   "execution_count": 42,
   "metadata": {},
   "outputs": [
    {
     "output_type": "execute_result",
     "data": {
      "text/plain": "0.00027377077784040006"
     },
     "metadata": {},
     "execution_count": 42
    }
   ],
   "source": [
    "0.01654602*0.01654602"
   ]
  },
  {
   "cell_type": "code",
   "execution_count": 43,
   "metadata": {},
   "outputs": [
    {
     "output_type": "execute_result",
     "data": {
      "text/plain": "True"
     },
     "metadata": {},
     "execution_count": 43
    }
   ],
   "source": [
    "isinstance(32,int)"
   ]
  },
  {
   "cell_type": "code",
   "execution_count": 44,
   "metadata": {},
   "outputs": [
    {
     "output_type": "error",
     "ename": "NameError",
     "evalue": "name 'coorindates' is not defined",
     "traceback": [
      "\u001b[0;31m---------------------------------------------------------------------------\u001b[0m",
      "\u001b[0;31mNameError\u001b[0m                                 Traceback (most recent call last)",
      "\u001b[0;32m<ipython-input-44-6447b2bf1d8f>\u001b[0m in \u001b[0;36m<module>\u001b[0;34m\u001b[0m\n\u001b[0;32m----> 1\u001b[0;31m \u001b[0mcoorindates\u001b[0m\u001b[0;34m\u001b[0m\u001b[0;34m\u001b[0m\u001b[0m\n\u001b[0m",
      "\u001b[0;31mNameError\u001b[0m: name 'coorindates' is not defined"
     ]
    }
   ],
   "source": [
    "coorindates"
   ]
  },
  {
   "cell_type": "code",
   "execution_count": 45,
   "metadata": {},
   "outputs": [
    {
     "output_type": "execute_result",
     "data": {
      "text/plain": "tensor([[0.7387, 0.5248, 0.1141],\n        [0.6848, 0.2159, 0.9854],\n        [0.2157, 0.0270, 0.9292],\n        ...,\n        [0.7772, 0.4445, 0.6965],\n        [0.3244, 0.6095, 0.5106],\n        [0.2248, 0.9851, 0.0596]])"
     },
     "metadata": {},
     "execution_count": 45
    }
   ],
   "source": [
    "coordinates"
   ]
  },
  {
   "cell_type": "code",
   "execution_count": 49,
   "metadata": {},
   "outputs": [
    {
     "output_type": "execute_result",
     "data": {
      "text/plain": "tensor([1.0000, 1.0000, 1.0000])"
     },
     "metadata": {},
     "execution_count": 49
    }
   ],
   "source": [
    "torch.max(coordinates,axis=0).values"
   ]
  },
  {
   "cell_type": "code",
   "execution_count": 52,
   "metadata": {},
   "outputs": [],
   "source": [
    "testy = torch.rand(100,3)"
   ]
  },
  {
   "cell_type": "code",
   "execution_count": 60,
   "metadata": {},
   "outputs": [
    {
     "output_type": "execute_result",
     "data": {
      "text/plain": "tensor([0.9960, 0.9935, 0.9908])"
     },
     "metadata": {},
     "execution_count": 60
    }
   ],
   "source": [
    "torch.max(testy, axis=0).values - torch.min(testy, axis=0).values"
   ]
  },
  {
   "cell_type": "code",
   "execution_count": 11,
   "metadata": {},
   "outputs": [],
   "source": [
    "from sklearn.preprocessing import MinMaxScaler"
   ]
  },
  {
   "cell_type": "code",
   "execution_count": 62,
   "metadata": {},
   "outputs": [
    {
     "output_type": "execute_result",
     "data": {
      "text/plain": "0"
     },
     "metadata": {},
     "execution_count": 62
    }
   ],
   "source": [
    "torch.argmax(torch.max(testy, axis=0).values - torch.min(testy, axis=0).values).item()"
   ]
  },
  {
   "cell_type": "code",
   "execution_count": 63,
   "metadata": {},
   "outputs": [],
   "source": [
    "scaler = MinMaxScaler(feature_range=(-1,1))"
   ]
  },
  {
   "cell_type": "code",
   "execution_count": 64,
   "metadata": {},
   "outputs": [
    {
     "output_type": "execute_result",
     "data": {
      "text/plain": "MinMaxScaler(copy=True, feature_range=(-1, 1))"
     },
     "metadata": {},
     "execution_count": 64
    }
   ],
   "source": [
    "scaler.fit(testy[:,0].unsqueeze(axis=1))"
   ]
  },
  {
   "cell_type": "code",
   "execution_count": 19,
   "metadata": {},
   "outputs": [
    {
     "output_type": "execute_result",
     "data": {
      "text/plain": "torch.Size([100])"
     },
     "metadata": {},
     "execution_count": 19
    }
   ],
   "source": [
    "testy[:,2].shape"
   ]
  },
  {
   "cell_type": "code",
   "execution_count": 26,
   "metadata": {},
   "outputs": [
    {
     "output_type": "execute_result",
     "data": {
      "text/plain": "torch.Size([100, 1])"
     },
     "metadata": {},
     "execution_count": 26
    }
   ],
   "source": [
    "testy[:,2].unsqueeze(axis=1).shape"
   ]
  },
  {
   "cell_type": "code",
   "execution_count": 30,
   "metadata": {},
   "outputs": [
    {
     "output_type": "execute_result",
     "data": {
      "text/plain": "array([[-0.7484512 ],\n       [ 0.80935302],\n       [ 0.80633725],\n       [ 0.61013382],\n       [ 0.55643945],\n       [-0.82030287],\n       [ 0.37811058],\n       [-0.8877782 ],\n       [ 0.20858997],\n       [-0.40721845],\n       [ 0.87775237],\n       [ 0.42590619],\n       [ 0.97285914],\n       [ 0.88276156],\n       [-0.79016833],\n       [ 0.99472534],\n       [ 0.05617753],\n       [-0.64435595],\n       [ 0.59745589],\n       [-0.28482926],\n       [-0.65696304],\n       [ 0.80029622],\n       [-0.70243878],\n       [-0.69511379],\n       [-0.50123864],\n       [-0.26313631],\n       [ 0.90416071],\n       [ 0.40761694],\n       [-0.13436463],\n       [ 0.29494262],\n       [-0.49820438],\n       [ 0.54227717],\n       [-0.14794953],\n       [-0.3805899 ],\n       [ 0.38502195],\n       [ 0.59041064],\n       [ 0.65227934],\n       [-0.07118459],\n       [ 0.97324142],\n       [ 1.00891224],\n       [-0.63308769],\n       [ 0.1057585 ],\n       [-0.38656862],\n       [-0.6233123 ],\n       [-0.90599493],\n       [-0.58898104],\n       [ 0.35832557],\n       [ 0.04143246],\n       [-0.31563568],\n       [-0.71553706],\n       [ 0.76145211],\n       [ 0.45730141],\n       [-0.33361444],\n       [-0.01963121],\n       [-0.7100081 ],\n       [-0.26626422],\n       [ 0.03374931],\n       [-0.14522923],\n       [ 0.61470779],\n       [ 0.94808222],\n       [-0.24866918],\n       [ 0.28002861],\n       [ 0.53032394],\n       [ 0.76696437],\n       [ 0.89970321],\n       [ 0.77788577],\n       [ 0.82988423],\n       [ 0.41066369],\n       [-0.55025087],\n       [-0.53029176],\n       [ 0.57051121],\n       [-0.55013429],\n       [ 0.27993676],\n       [ 0.2787683 ],\n       [-0.57754769],\n       [ 0.8302706 ],\n       [-0.1820702 ],\n       [ 0.35282939],\n       [-0.57427534],\n       [ 0.18967722],\n       [-0.0071521 ],\n       [-0.19344459],\n       [-0.55926192],\n       [-0.82784782],\n       [-0.95267516],\n       [-0.04437811],\n       [ 0.80162185],\n       [-0.08779102],\n       [-0.38715993],\n       [-0.2679851 ],\n       [-0.51098953],\n       [ 0.22973554],\n       [ 0.24873509],\n       [ 0.6203807 ],\n       [ 0.21917614],\n       [ 0.03764539],\n       [ 0.35675117],\n       [-0.94488407],\n       [-0.83578995],\n       [-0.64990351]])"
     },
     "metadata": {},
     "execution_count": 30
    }
   ],
   "source": [
    "scaler.transform(testy[:,0].unsqueeze(axis=1))"
   ]
  },
  {
   "cell_type": "code",
   "execution_count": 32,
   "metadata": {},
   "outputs": [
    {
     "output_type": "execute_result",
     "data": {
      "text/plain": "tensor([0.])"
     },
     "metadata": {},
     "execution_count": 32
    }
   ],
   "source": [
    "torch.tensor([0.])"
   ]
  },
  {
   "cell_type": "code",
   "execution_count": 34,
   "metadata": {},
   "outputs": [
    {
     "output_type": "execute_result",
     "data": {
      "text/plain": "'Tensor'"
     },
     "metadata": {},
     "execution_count": 34
    }
   ],
   "source": [
    "coordinates.__class__.__name__"
   ]
  },
  {
   "cell_type": "code",
   "execution_count": 38,
   "metadata": {},
   "outputs": [
    {
     "output_type": "execute_result",
     "data": {
      "text/plain": "faiss.swigfaiss_avx2.IndexFlat"
     },
     "metadata": {},
     "execution_count": 38
    }
   ],
   "source": [
    "type(index1)"
   ]
  },
  {
   "cell_type": "code",
   "execution_count": 39,
   "metadata": {},
   "outputs": [
    {
     "output_type": "execute_result",
     "data": {
      "text/plain": "\"<class 'faiss.swigfaiss_avx2.IndexFlat'>\""
     },
     "metadata": {},
     "execution_count": 39
    }
   ],
   "source": [
    "str(type(index1))"
   ]
  },
  {
   "cell_type": "code",
   "execution_count": 41,
   "metadata": {},
   "outputs": [
    {
     "output_type": "execute_result",
     "data": {
      "text/plain": "'IndexFlat'"
     },
     "metadata": {},
     "execution_count": 41
    }
   ],
   "source": [
    "str(index1.__class__.__name__)"
   ]
  },
  {
   "cell_type": "code",
   "execution_count": 44,
   "metadata": {},
   "outputs": [
    {
     "output_type": "execute_result",
     "data": {
      "text/plain": "'NoneType'"
     },
     "metadata": {},
     "execution_count": 44
    }
   ],
   "source": [
    "None.__class__.__name__"
   ]
  },
  {
   "cell_type": "code",
   "execution_count": 47,
   "metadata": {},
   "outputs": [
    {
     "output_type": "execute_result",
     "data": {
      "text/plain": "'(-1, 1)'"
     },
     "metadata": {},
     "execution_count": 47
    }
   ],
   "source": [
    "str(scaler.get_params()['feature_range'])"
   ]
  },
  {
   "cell_type": "code",
   "execution_count": 50,
   "metadata": {},
   "outputs": [],
   "source": [
    "scaler =MinMaxScaler(feature_range=(-10,1))"
   ]
  },
  {
   "cell_type": "code",
   "execution_count": 51,
   "metadata": {},
   "outputs": [
    {
     "output_type": "execute_result",
     "data": {
      "text/plain": "MinMaxScaler(copy=True, feature_range=(-10, 1))"
     },
     "metadata": {},
     "execution_count": 51
    }
   ],
   "source": [
    "scaler"
   ]
  },
  {
   "cell_type": "code",
   "execution_count": 67,
   "metadata": {},
   "outputs": [
    {
     "output_type": "stream",
     "name": "stdout",
     "text": "torch.Size([100])\ntorch.Size([100])\ntorch.Size([100])\n"
    }
   ],
   "source": [
    "for x in testy.T:\n",
    "    print(x.shape)"
   ]
  },
  {
   "cell_type": "code",
   "execution_count": 66,
   "metadata": {},
   "outputs": [
    {
     "output_type": "execute_result",
     "data": {
      "text/plain": "torch.Size([100, 3])"
     },
     "metadata": {},
     "execution_count": 66
    }
   ],
   "source": [
    "testy.shape"
   ]
  },
  {
   "cell_type": "code",
   "execution_count": 51,
   "metadata": {},
   "outputs": [],
   "source": [
    "def nn(query, support, norm, num=32):\n",
    "    n = len(query)\n",
    "    m = len(support)\n",
    "    result = torch.zeros(n,num,dtype=torch.float32)\n",
    "    indices = torch.zeros(n,num,dtype=torch.int64)\n",
    "    for i, element in enumerate(query):\n",
    "        current = torch.sub(support, element)\n",
    "        current = norm.no_checks(current)\n",
    "        dists, numbers = torch.sort(current)\n",
    "        result[i,:] = dists[:num]\n",
    "        indices[i,:] = numbers[:num]\n",
    "    return result, indices"
   ]
  },
  {
   "cell_type": "code",
   "execution_count": 3,
   "metadata": {},
   "outputs": [],
   "source": [
    "query = torch.rand(10000,3)\n",
    "support = torch.rand(10000,3)\n",
    "norm = L2SquaredNorm()"
   ]
  },
  {
   "cell_type": "code",
   "execution_count": 4,
   "metadata": {},
   "outputs": [
    {
     "output_type": "execute_result",
     "data": {
      "text/plain": "False"
     },
     "metadata": {},
     "execution_count": 4
    }
   ],
   "source": [
    "isinstance(norm, L2Norm)"
   ]
  },
  {
   "cell_type": "code",
   "execution_count": 4,
   "metadata": {},
   "outputs": [
    {
     "output_type": "error",
     "ename": "NameError",
     "evalue": "name 'l2l2' is not defined",
     "traceback": [
      "\u001b[0;31m---------------------------------------------------------------------------\u001b[0m",
      "\u001b[0;31mNameError\u001b[0m                                 Traceback (most recent call last)",
      "\u001b[0;32m<ipython-input-4-ef95e2f7c972>\u001b[0m in \u001b[0;36m<module>\u001b[0;34m\u001b[0m\n\u001b[0;32m----> 1\u001b[0;31m \u001b[0ml2l2\u001b[0m\u001b[0;34m(\u001b[0m\u001b[0;34m)\u001b[0m\u001b[0;34m\u001b[0m\u001b[0;34m\u001b[0m\u001b[0m\n\u001b[0m",
      "\u001b[0;31mNameError\u001b[0m: name 'l2l2' is not defined"
     ]
    }
   ],
   "source": [
    "l2l2()"
   ]
  },
  {
   "cell_type": "code",
   "execution_count": 4,
   "metadata": {
    "tags": [
     "outputPrepend",
     "outputPrepend",
     "outputPrepend",
     "outputPrepend"
    ]
   },
   "outputs": [
    {
     "output_type": "stream",
     "name": "stdout",
     "text": "CPU times: user 15.2 s, sys: 7.2 ms, total: 15.2 s\nWall time: 14.6 s\n"
    }
   ],
   "source": [
    "%%time\n",
    "one, two = any_norm_nn_search(support,query, norm)"
   ]
  },
  {
   "cell_type": "code",
   "execution_count": 5,
   "metadata": {},
   "outputs": [],
   "source": [
    "index = faiss.IndexFlatL2(3) "
   ]
  },
  {
   "cell_type": "code",
   "execution_count": 6,
   "metadata": {},
   "outputs": [],
   "source": [
    "index.add(support.numpy())"
   ]
  },
  {
   "cell_type": "code",
   "execution_count": 7,
   "metadata": {},
   "outputs": [
    {
     "output_type": "stream",
     "name": "stdout",
     "text": "CPU times: user 819 ms, sys: 28.2 ms, total: 847 ms\nWall time: 214 ms\n"
    },
    {
     "output_type": "execute_result",
     "data": {
      "text/plain": "(array([[7.12394714e-04, 1.47819519e-03, 1.73604488e-03, ...,\n         1.00859404e-02, 1.06242895e-02, 1.13196373e-02],\n        [1.00255013e-04, 2.63452530e-04, 4.69088554e-04, ...,\n         8.92508030e-03, 8.94713402e-03, 9.19294357e-03],\n        [6.72340393e-05, 6.58273697e-04, 1.60098076e-03, ...,\n         8.37039948e-03, 8.51607323e-03, 9.53865051e-03],\n        ...,\n        [8.52584839e-04, 2.23302841e-03, 2.24542618e-03, ...,\n         1.00972652e-02, 1.01251602e-02, 1.04300976e-02],\n        [1.05667114e-03, 1.20282173e-03, 1.42908096e-03, ...,\n         7.65085220e-03, 8.37469101e-03, 8.38136673e-03],\n        [1.07288361e-04, 7.26938248e-04, 7.29084015e-04, ...,\n         8.45026970e-03, 8.61835480e-03, 8.66651535e-03]], dtype=float32),\n array([[3777, 4672, 5418, ...,  797, 2311, 9591],\n        [9014, 9782, 9830, ..., 5273, 8815, 8298],\n        [7307, 9046, 3483, ...,  707, 5898, 5103],\n        ...,\n        [3804, 7107, 1709, ..., 1542, 5152, 3953],\n        [6469, 5316, 9294, ..., 7861,  867, 5884],\n        [9397, 3380,  792, ...,  656, 5481, 7021]]))"
     },
     "metadata": {},
     "execution_count": 7
    }
   ],
   "source": [
    "%%time\n",
    "index.search(query.numpy(),k=32)"
   ]
  },
  {
   "cell_type": "code",
   "execution_count": 9,
   "metadata": {},
   "outputs": [
    {
     "output_type": "execute_result",
     "data": {
      "text/plain": "tensor([[7.1223e-04, 1.4780e-03, 1.7360e-03,  ..., 1.0086e-02, 1.0624e-02,\n         1.1320e-02],\n        [1.0039e-04, 2.6350e-04, 4.6907e-04,  ..., 8.9252e-03, 8.9472e-03,\n         9.1929e-03],\n        [6.7223e-05, 6.5814e-04, 1.6011e-03,  ..., 8.3704e-03, 8.5162e-03,\n         9.5385e-03],\n        ...,\n        [8.5230e-04, 2.2328e-03, 2.2453e-03,  ..., 1.0097e-02, 1.0125e-02,\n         1.0430e-02],\n        [1.0567e-03, 1.2029e-03, 1.4292e-03,  ..., 7.6509e-03, 8.3749e-03,\n         8.3814e-03],\n        [1.0733e-04, 7.2694e-04, 7.2927e-04,  ..., 8.4504e-03, 8.6183e-03,\n         8.6667e-03]])"
     },
     "metadata": {},
     "execution_count": 9
    }
   ],
   "source": [
    "one"
   ]
  },
  {
   "cell_type": "code",
   "execution_count": 58,
   "metadata": {},
   "outputs": [],
   "source": [
    "norm = L2Norm()"
   ]
  },
  {
   "cell_type": "code",
   "execution_count": 59,
   "metadata": {},
   "outputs": [
    {
     "output_type": "execute_result",
     "data": {
      "text/plain": "True"
     },
     "metadata": {},
     "execution_count": 59
    }
   ],
   "source": [
    "isinstance(norm, Norm)"
   ]
  },
  {
   "cell_type": "code",
   "execution_count": 8,
   "metadata": {},
   "outputs": [
    {
     "output_type": "execute_result",
     "data": {
      "text/plain": "tensor([0.6226])"
     },
     "metadata": {},
     "execution_count": 8
    }
   ],
   "source": [
    "l2l2(torch.rand(1,1), torch.rand(1,1))"
   ]
  },
  {
   "cell_type": "code",
   "execution_count": null,
   "metadata": {},
   "outputs": [],
   "source": []
  }
 ],
 "metadata": {
  "language_info": {
   "name": "python",
   "codemirror_mode": {
    "name": "ipython",
    "version": 3
   },
   "version": "3.7.7-final"
  },
  "orig_nbformat": 2,
  "file_extension": ".py",
  "mimetype": "text/x-python",
  "name": "python",
  "npconvert_exporter": "python",
  "pygments_lexer": "ipython3",
  "version": 3,
  "kernelspec": {
   "name": "python37764bit35ea5608fe5f40f18ddee189641235d7",
   "display_name": "Python 3.7.7 64-bit"
  }
 },
 "nbformat": 4,
 "nbformat_minor": 2
}