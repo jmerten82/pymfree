{
 "nbformat": 4,
 "nbformat_minor": 2,
 "metadata": {
  "language_info": {
   "name": "python",
   "codemirror_mode": {
    "name": "ipython",
    "version": 3
   },
   "version": "3.7.7-final"
  },
  "orig_nbformat": 2,
  "file_extension": ".py",
  "mimetype": "text/x-python",
  "name": "python",
  "npconvert_exporter": "python",
  "pygments_lexer": "ipython3",
  "version": 3,
  "kernelspec": {
   "name": "python37764bit35ea5608fe5f40f18ddee189641235d7",
   "display_name": "Python 3.7.7 64-bit"
  }
 },
 "cells": [
  {
   "cell_type": "code",
   "execution_count": 1,
   "metadata": {},
   "outputs": [],
   "source": [
    "import torch\n",
    "import numpy as np"
   ]
  },
  {
   "cell_type": "markdown",
   "metadata": {},
   "source": [
    "## Timing"
   ]
  },
  {
   "cell_type": "code",
   "execution_count": 2,
   "metadata": {},
   "outputs": [],
   "source": [
    "x1 = torch.rand(10000,3)\n",
    "x2 = torch.rand(10000,3)"
   ]
  },
  {
   "cell_type": "code",
   "execution_count": 3,
   "metadata": {},
   "outputs": [],
   "source": [
    "def f(x1,x2):\n",
    "    return torch.sqrt(torch.sum(torch.pow(x1-x2,2),axis=1))\n",
    "\n",
    "class norm(object):\n",
    "    \"\"\"\n",
    "    This is a docstring.\n",
    "    \"\"\"\n",
    "    def __init__(self,F):\n",
    "        if not callable(F):\n",
    "            raise TypeError(\"PyMFree Norm: Function not callable\")\n",
    "        self.F = F\n",
    "\n",
    "    def __call__(self,x1,x2=None):\n",
    "        pass\n",
    "\n",
    "    def NoChecksPair(self,x1,x2):\n",
    "        return self.F(x1,x2)"
   ]
  },
  {
   "cell_type": "code",
   "execution_count": 4,
   "metadata": {},
   "outputs": [],
   "source": [
    "my_norm = norm(f)"
   ]
  },
  {
   "cell_type": "code",
   "execution_count": 7,
   "metadata": {},
   "outputs": [
    {
     "output_type": "stream",
     "name": "stdout",
     "text": "CPU times: user 2.75 ms, sys: 372 µs, total: 3.12 ms\nWall time: 1.6 ms\n"
    },
    {
     "output_type": "execute_result",
     "data": {
      "text/plain": "tensor([0.8796, 0.6421, 0.5602,  ..., 0.3806, 0.4741, 0.7938])"
     },
     "metadata": {},
     "execution_count": 7
    }
   ],
   "source": [
    "%%time \n",
    "f(x1,x2)"
   ]
  },
  {
   "cell_type": "code",
   "execution_count": 9,
   "metadata": {},
   "outputs": [
    {
     "output_type": "stream",
     "name": "stdout",
     "text": "CPU times: user 5.13 ms, sys: 156 µs, total: 5.29 ms\nWall time: 2.89 ms\n"
    },
    {
     "output_type": "execute_result",
     "data": {
      "text/plain": "tensor(70.7821)"
     },
     "metadata": {},
     "execution_count": 9
    }
   ],
   "source": [
    "%%time \n",
    "torch.dist(x1,x2)"
   ]
  },
  {
   "cell_type": "code",
   "execution_count": 11,
   "metadata": {},
   "outputs": [
    {
     "output_type": "stream",
     "name": "stdout",
     "text": "CPU times: user 13.4 ms, sys: 4.16 ms, total: 17.5 ms\nWall time: 13.7 ms\n"
    },
    {
     "output_type": "execute_result",
     "data": {
      "text/plain": "tensor([0.8796, 0.6421, 0.5602,  ..., 0.3806, 0.4741, 0.7938])"
     },
     "metadata": {},
     "execution_count": 11
    }
   ],
   "source": [
    "%%time \n",
    "torch.pairwise_distance(x1,x2)"
   ]
  },
  {
   "cell_type": "code",
   "execution_count": 52,
   "metadata": {},
   "outputs": [
    {
     "output_type": "stream",
     "name": "stdout",
     "text": "CPU times: user 2.89 ms, sys: 112 µs, total: 3 ms\nWall time: 1.66 ms\n"
    },
    {
     "output_type": "execute_result",
     "data": {
      "text/plain": "tensor([0.7760, 0.5958, 0.5961,  ..., 0.1810, 0.9821, 0.8875])"
     },
     "metadata": {},
     "execution_count": 52
    }
   ],
   "source": [
    "%%time\n",
    "my_norm.NoChecksPair(x1,x2)"
   ]
  },
  {
   "cell_type": "code",
   "execution_count": 59,
   "metadata": {},
   "outputs": [],
   "source": [
    "y=torch.cdist(x1,x2)"
   ]
  },
  {
   "cell_type": "code",
   "execution_count": 62,
   "metadata": {},
   "outputs": [
    {
     "output_type": "execute_result",
     "data": {
      "text/plain": "torch.return_types.sort(\nvalues=tensor([[0.0168, 0.0333, 0.0417,  ..., 1.2878, 1.3032, 1.3160],\n        [0.0458, 0.0462, 0.0625,  ..., 1.1436, 1.1519, 1.1585],\n        [0.0405, 0.0406, 0.0420,  ..., 1.1753, 1.1798, 1.2053],\n        ...,\n        [0.0316, 0.0341, 0.0418,  ..., 1.2637, 1.2652, 1.2960],\n        [0.0207, 0.0256, 0.0282,  ..., 1.4104, 1.4117, 1.4157],\n        [0.0149, 0.0362, 0.0407,  ..., 1.1309, 1.1381, 1.1647]]),\nindices=tensor([[ 808, 1521, 8984,  ..., 3119, 7862, 4176],\n        [3104, 7361, 2684,  ..., 7862, 4176, 1739],\n        [9380, 5874, 3976,  ..., 6813, 9765, 1739],\n        ...,\n        [3688, 2969, 4148,  ..., 9238, 7306, 6725],\n        [8129,  860, 3507,  ...,  859, 8217, 3034],\n        [ 257, 7006, 8441,  ..., 7306, 2322, 6725]]))"
     },
     "metadata": {},
     "execution_count": 62
    }
   ],
   "source": [
    "torch.sort(y,axis=1)"
   ]
  },
  {
   "cell_type": "code",
   "execution_count": 6,
   "metadata": {},
   "outputs": [
    {
     "output_type": "error",
     "ename": "AttributeError",
     "evalue": "module 'torch' has no attribute 'current_device'",
     "traceback": [
      "\u001b[0;31m---------------------------------------------------------------------------\u001b[0m",
      "\u001b[0;31mAttributeError\u001b[0m                            Traceback (most recent call last)",
      "\u001b[0;32m<ipython-input-6-f378a2c70c70>\u001b[0m in \u001b[0;36m<module>\u001b[0;34m\u001b[0m\n\u001b[0;32m----> 1\u001b[0;31m \u001b[0mtorch\u001b[0m\u001b[0;34m.\u001b[0m\u001b[0mcurrent_device\u001b[0m\u001b[0;34m(\u001b[0m\u001b[0;34m)\u001b[0m\u001b[0;34m\u001b[0m\u001b[0;34m\u001b[0m\u001b[0m\n\u001b[0m",
      "\u001b[0;31mAttributeError\u001b[0m: module 'torch' has no attribute 'current_device'"
     ]
    }
   ],
   "source": [
    "torch.current_device()"
   ]
  },
  {
   "cell_type": "code",
   "execution_count": 7,
   "metadata": {},
   "outputs": [
    {
     "output_type": "execute_result",
     "data": {
      "text/plain": "device(type='cpu')"
     },
     "metadata": {},
     "execution_count": 7
    }
   ],
   "source": [
    "torch.device('cpu')"
   ]
  },
  {
   "cell_type": "code",
   "execution_count": 9,
   "metadata": {},
   "outputs": [],
   "source": [
    "x =torch.rand((10,3))"
   ]
  },
  {
   "cell_type": "code",
   "execution_count": 10,
   "metadata": {},
   "outputs": [
    {
     "output_type": "execute_result",
     "data": {
      "text/plain": "tensor([0.8564, 0.2552, 0.8705])"
     },
     "metadata": {},
     "execution_count": 10
    }
   ],
   "source": [
    "x[0]"
   ]
  },
  {
   "cell_type": "code",
   "execution_count": 11,
   "metadata": {},
   "outputs": [],
   "source": [
    "ref = torch.rand(1,3)"
   ]
  },
  {
   "cell_type": "code",
   "execution_count": 12,
   "metadata": {},
   "outputs": [
    {
     "output_type": "execute_result",
     "data": {
      "text/plain": "tensor([[ 0.7118, -0.1973,  0.4388],\n        [ 0.0900,  0.5144,  0.4334],\n        [ 0.3662,  0.1302,  0.4984],\n        [ 0.3605, -0.2682, -0.4023],\n        [ 0.4175,  0.5001, -0.3299],\n        [ 0.4785, -0.3132, -0.4084],\n        [ 0.5098, -0.0322,  0.1477],\n        [-0.0243,  0.5328,  0.1293],\n        [ 0.2912,  0.2004,  0.5180],\n        [ 0.7245,  0.1096,  0.2939]])"
     },
     "metadata": {},
     "execution_count": 12
    }
   ],
   "source": [
    "x - ref"
   ]
  },
  {
   "cell_type": "code",
   "execution_count": 20,
   "metadata": {},
   "outputs": [
    {
     "output_type": "execute_result",
     "data": {
      "text/plain": "tensor([[0.8592],\n        [0.6786],\n        [0.6320],\n        [0.6031],\n        [0.7303],\n        [0.7027],\n        [0.5317],\n        [0.5488],\n        [0.6271],\n        [0.7895]])"
     },
     "metadata": {},
     "execution_count": 20
    }
   ],
   "source": [
    "torch.sqrt(torch.sum(torch.pow(x-ref,2),axis=1,keepdim=True))"
   ]
  },
  {
   "cell_type": "code",
   "execution_count": 23,
   "metadata": {},
   "outputs": [
    {
     "output_type": "execute_result",
     "data": {
      "text/plain": "0"
     },
     "metadata": {},
     "execution_count": 23
    }
   ],
   "source": [
    "len(torch.empty(0))"
   ]
  },
  {
   "cell_type": "code",
   "execution_count": 32,
   "metadata": {},
   "outputs": [],
   "source": [
    "x = {'one' : 1, 'two' :2}"
   ]
  },
  {
   "cell_type": "code",
   "execution_count": 34,
   "metadata": {},
   "outputs": [
    {
     "output_type": "stream",
     "name": "stdout",
     "text": "one\ntwo\n"
    }
   ],
   "source": [
    "for key,value  in x.items():\n",
    "    print(key) "
   ]
  },
  {
   "cell_type": "code",
   "execution_count": 35,
   "metadata": {},
   "outputs": [],
   "source": [
    "test = torch.empty(0)"
   ]
  },
  {
   "cell_type": "code",
   "execution_count": 37,
   "metadata": {},
   "outputs": [
    {
     "output_type": "error",
     "ename": "AttributeError",
     "evalue": "'Tensor' object has no attribute 'append'",
     "traceback": [
      "\u001b[0;31m---------------------------------------------------------------------------\u001b[0m",
      "\u001b[0;31mAttributeError\u001b[0m                            Traceback (most recent call last)",
      "\u001b[0;32m<ipython-input-37-b3bd13c9ff8f>\u001b[0m in \u001b[0;36m<module>\u001b[0;34m\u001b[0m\n\u001b[0;32m----> 1\u001b[0;31m \u001b[0mtest\u001b[0m\u001b[0;34m.\u001b[0m\u001b[0mappend\u001b[0m\u001b[0;34m(\u001b[0m\u001b[0;36m3\u001b[0m\u001b[0;34m)\u001b[0m\u001b[0;34m\u001b[0m\u001b[0;34m\u001b[0m\u001b[0m\n\u001b[0m",
      "\u001b[0;31mAttributeError\u001b[0m: 'Tensor' object has no attribute 'append'"
     ]
    }
   ],
   "source": [
    "test.append(3)"
   ]
  },
  {
   "cell_type": "code",
   "execution_count": 39,
   "metadata": {},
   "outputs": [
    {
     "output_type": "error",
     "ename": "TypeError",
     "evalue": "expected Tensor as element 1 in argument 0, but got float",
     "traceback": [
      "\u001b[0;31m---------------------------------------------------------------------------\u001b[0m",
      "\u001b[0;31mTypeError\u001b[0m                                 Traceback (most recent call last)",
      "\u001b[0;32m<ipython-input-39-787cbb3299ec>\u001b[0m in \u001b[0;36m<module>\u001b[0;34m\u001b[0m\n\u001b[0;32m----> 1\u001b[0;31m \u001b[0mtest\u001b[0m \u001b[0;34m=\u001b[0m \u001b[0mtorch\u001b[0m\u001b[0;34m.\u001b[0m\u001b[0mcat\u001b[0m\u001b[0;34m(\u001b[0m\u001b[0;34m(\u001b[0m\u001b[0mtest\u001b[0m\u001b[0;34m,\u001b[0m\u001b[0;36m3.\u001b[0m\u001b[0;34m)\u001b[0m\u001b[0;34m,\u001b[0m\u001b[0mdim\u001b[0m\u001b[0;34m=\u001b[0m\u001b[0;36m0\u001b[0m\u001b[0;34m)\u001b[0m\u001b[0;34m\u001b[0m\u001b[0;34m\u001b[0m\u001b[0m\n\u001b[0m",
      "\u001b[0;31mTypeError\u001b[0m: expected Tensor as element 1 in argument 0, but got float"
     ]
    }
   ],
   "source": [
    "test = torch.cat((test,3.),dim=0)"
   ]
  },
  {
   "cell_type": "code",
   "execution_count": 40,
   "metadata": {},
   "outputs": [],
   "source": [
    "yada = [3,2,3,4]"
   ]
  },
  {
   "cell_type": "code",
   "execution_count": 41,
   "metadata": {},
   "outputs": [
    {
     "output_type": "execute_result",
     "data": {
      "text/plain": "tensor([3., 2., 3., 4.])"
     },
     "metadata": {},
     "execution_count": 41
    }
   ],
   "source": [
    "torch.Tensor(yada)"
   ]
  },
  {
   "cell_type": "code",
   "execution_count": 42,
   "metadata": {},
   "outputs": [
    {
     "output_type": "execute_result",
     "data": {
      "text/plain": "{'one': 1, 'two': 2}"
     },
     "metadata": {},
     "execution_count": 42
    }
   ],
   "source": [
    "x"
   ]
  },
  {
   "cell_type": "code",
   "execution_count": 46,
   "metadata": {},
   "outputs": [
    {
     "output_type": "execute_result",
     "data": {
      "text/plain": "dict_values([1, 2])"
     },
     "metadata": {},
     "execution_count": 46
    }
   ],
   "source": [
    "x.values()"
   ]
  },
  {
   "cell_type": "code",
   "execution_count": 48,
   "metadata": {},
   "outputs": [
    {
     "output_type": "error",
     "ename": "TypeError",
     "evalue": "new(): data must be a sequence (got dict_values)",
     "traceback": [
      "\u001b[0;31m---------------------------------------------------------------------------\u001b[0m",
      "\u001b[0;31mTypeError\u001b[0m                                 Traceback (most recent call last)",
      "\u001b[0;32m<ipython-input-48-82677e648823>\u001b[0m in \u001b[0;36m<module>\u001b[0;34m\u001b[0m\n\u001b[0;32m----> 1\u001b[0;31m \u001b[0mtorch\u001b[0m\u001b[0;34m.\u001b[0m\u001b[0mTensor\u001b[0m\u001b[0;34m(\u001b[0m\u001b[0mx\u001b[0m\u001b[0;34m.\u001b[0m\u001b[0mvalues\u001b[0m\u001b[0;34m(\u001b[0m\u001b[0;34m)\u001b[0m\u001b[0;34m)\u001b[0m\u001b[0;34m\u001b[0m\u001b[0;34m\u001b[0m\u001b[0m\n\u001b[0m",
      "\u001b[0;31mTypeError\u001b[0m: new(): data must be a sequence (got dict_values)"
     ]
    }
   ],
   "source": [
    "torch.Tensor(x.values())"
   ]
  },
  {
   "cell_type": "code",
   "execution_count": 66,
   "metadata": {},
   "outputs": [
    {
     "output_type": "execute_result",
     "data": {
      "text/plain": "10000"
     },
     "metadata": {},
     "execution_count": 66
    }
   ],
   "source": [
    "x2.shape[0]"
   ]
  },
  {
   "cell_type": "code",
   "execution_count": 65,
   "metadata": {},
   "outputs": [
    {
     "output_type": "stream",
     "name": "stdout",
     "text": "ya\n"
    }
   ],
   "source": [
    "if len(x2.shape) is 2:\n",
    "    print(\"ya\")"
   ]
  },
  {
   "cell_type": "code",
   "execution_count": 68,
   "metadata": {},
   "outputs": [
    {
     "output_type": "execute_result",
     "data": {
      "text/plain": "torch.Size([10000, 3])"
     },
     "metadata": {},
     "execution_count": 68
    }
   ],
   "source": [
    "x1.shape"
   ]
  },
  {
   "cell_type": "code",
   "execution_count": 71,
   "metadata": {},
   "outputs": [
    {
     "output_type": "execute_result",
     "data": {
      "text/plain": "10000"
     },
     "metadata": {},
     "execution_count": 71
    }
   ],
   "source": [
    "f(x1,x2).shape[0]"
   ]
  },
  {
   "cell_type": "code",
   "execution_count": null,
   "metadata": {},
   "outputs": [],
   "source": []
  }
 ]
}