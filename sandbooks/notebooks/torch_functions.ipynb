{
 "cells": [
  {
   "cell_type": "code",
   "execution_count": 1,
   "metadata": {},
   "outputs": [],
   "source": [
    "import os\n",
    "home = os.getenv(\"HOME\")\n",
    "os.chdir(home+\"/codes/pymfree/\")"
   ]
  },
  {
   "cell_type": "code",
   "execution_count": 2,
   "metadata": {},
   "outputs": [],
   "source": [
    "import torch\n",
    "import numpy as np\n",
    "from sklearn.neighbors import DistanceMetric\n",
    "import pymfree.core.functional as F\n",
    "from pymfree.core.norm import Norm\n",
    "from pymfree.core.norm import L2Norm"
   ]
  },
  {
   "cell_type": "markdown",
   "metadata": {},
   "source": [
    "## Norm Definitions and Timing"
   ]
  },
  {
   "cell_type": "code",
   "execution_count": 28,
   "metadata": {},
   "outputs": [],
   "source": [
    "x1 = torch.rand(100000,3)\n",
    "x2 = torch.rand(100000,3)\n",
    "x3 = np.random.rand(100000,3)\n",
    "x4 = np.random.rand(100000,3)"
   ]
  },
  {
   "cell_type": "code",
   "execution_count": 4,
   "metadata": {},
   "outputs": [
    {
     "output_type": "execute_result",
     "data": {
      "text/plain": "2"
     },
     "metadata": {},
     "execution_count": 4
    }
   ],
   "source": [
    "len(x1.shape)"
   ]
  },
  {
   "cell_type": "code",
   "execution_count": 5,
   "metadata": {},
   "outputs": [
    {
     "output_type": "stream",
     "name": "stdout",
     "text": "CPU times: user 6.66 ms, sys: 713 µs, total: 7.38 ms\nWall time: 2.31 ms\n"
    }
   ],
   "source": [
    "%%time\n",
    "result = F.l2(x1)"
   ]
  },
  {
   "cell_type": "code",
   "execution_count": 6,
   "metadata": {},
   "outputs": [
    {
     "output_type": "stream",
     "name": "stdout",
     "text": "CPU times: user 12.6 ms, sys: 50 µs, total: 12.6 ms\nWall time: 3.36 ms\n"
    }
   ],
   "source": [
    "%%time \n",
    "result = F.l2(x1-x2)"
   ]
  },
  {
   "cell_type": "code",
   "execution_count": 7,
   "metadata": {},
   "outputs": [],
   "source": [
    "l2_skl = DistanceMetric.get_metric('euclidean')\n",
    "point = [0.,0.,0.]\n",
    "ref = np.empty((1,3))\n",
    "ref[0] = point"
   ]
  },
  {
   "cell_type": "code",
   "execution_count": 31,
   "metadata": {},
   "outputs": [
    {
     "output_type": "stream",
     "name": "stdout",
     "text": "CPU times: user 9.99 ms, sys: 88 µs, total: 10.1 ms\nWall time: 7.12 ms\n"
    }
   ],
   "source": [
    "%%time \n",
    "result = l2_skl.pairwise(x3-x4,ref)"
   ]
  },
  {
   "cell_type": "code",
   "execution_count": 9,
   "metadata": {},
   "outputs": [],
   "source": [
    "my_norm = L2Norm()"
   ]
  },
  {
   "cell_type": "code",
   "execution_count": 36,
   "metadata": {},
   "outputs": [
    {
     "output_type": "stream",
     "name": "stdout",
     "text": "CPU times: user 13.4 ms, sys: 0 ns, total: 13.4 ms\nWall time: 2.96 ms\n"
    }
   ],
   "source": [
    "%%time\n",
    "result = my_norm(x1,x2)"
   ]
  },
  {
   "cell_type": "code",
   "execution_count": 37,
   "metadata": {},
   "outputs": [
    {
     "output_type": "stream",
     "name": "stdout",
     "text": "CPU times: user 22.9 ms, sys: 12.1 ms, total: 35 ms\nWall time: 8.63 ms\n"
    }
   ],
   "source": [
    "%%time\n",
    "result = my_norm(x3,x4)"
   ]
  },
  {
   "cell_type": "code",
   "execution_count": null,
   "metadata": {},
   "outputs": [],
   "source": []
  }
 ],
 "metadata": {
  "language_info": {
   "name": "python",
   "codemirror_mode": {
    "name": "ipython",
    "version": 3
   },
   "version": "3.7.7-final"
  },
  "orig_nbformat": 2,
  "file_extension": ".py",
  "mimetype": "text/x-python",
  "name": "python",
  "npconvert_exporter": "python",
  "pygments_lexer": "ipython3",
  "version": 3,
  "kernelspec": {
   "name": "python37764bit35ea5608fe5f40f18ddee189641235d7",
   "display_name": "Python 3.7.7 64-bit"
  }
 },
 "nbformat": 4,
 "nbformat_minor": 2
}