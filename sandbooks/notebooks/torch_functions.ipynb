{
 "nbformat": 4,
 "nbformat_minor": 2,
 "metadata": {
  "language_info": {
   "name": "python",
   "codemirror_mode": {
    "name": "ipython",
    "version": 3
   },
   "version": "3.7.7-final"
  },
  "orig_nbformat": 2,
  "file_extension": ".py",
  "mimetype": "text/x-python",
  "name": "python",
  "npconvert_exporter": "python",
  "pygments_lexer": "ipython3",
  "version": 3,
  "kernelspec": {
   "name": "python37764bit35ea5608fe5f40f18ddee189641235d7",
   "display_name": "Python 3.7.7 64-bit"
  }
 },
 "cells": [
  {
   "cell_type": "code",
   "execution_count": 9,
   "metadata": {},
   "outputs": [],
   "source": [
    "import torch\n",
    "import numpy as np"
   ]
  },
  {
   "cell_type": "markdown",
   "metadata": {},
   "source": [
    "## Norm Definitions and Timing"
   ]
  },
  {
   "cell_type": "code",
   "execution_count": 10,
   "metadata": {},
   "outputs": [],
   "source": [
    "x1 = torch.rand(10000,3)\n",
    "x2 = torch.rand(10000,3)"
   ]
  },
  {
   "cell_type": "code",
   "execution_count": 11,
   "metadata": {},
   "outputs": [],
   "source": [
    "def f1(x1,x2):\n",
    "    return torch.sqrt(torch.sum(torch.pow(x1-x2,2),axis=1))\n",
    "\n",
    "class norm1(object):\n",
    "    \"\"\"\n",
    "    This is a docstring.\n",
    "    \"\"\"\n",
    "    def __init__(self,F):\n",
    "        if not callable(F):\n",
    "            raise TypeError(\"PyMFree Norm: Function not callable\")\n",
    "        self.F = F\n",
    "\n",
    "    def __call__(self,x1,x2=None):\n",
    "        pass\n",
    "\n",
    "    def NoChecksPair(self,x1,x2):\n",
    "        return self.F(x1,x2)"
   ]
  },
  {
   "cell_type": "code",
   "execution_count": 12,
   "metadata": {},
   "outputs": [],
   "source": [
    "def f2(x):\n",
    "    return torch.sqrt(torch.sum(torch.pow(x,2),axis=1))\n",
    "\n",
    "class norm2(object):\n",
    "    \"\"\"\n",
    "    This is a docstring.\n",
    "    \"\"\"\n",
    "    def __init__(self,F):\n",
    "        if not callable(F):\n",
    "            raise TypeError(\"PyMFree Norm: Function not callable\")\n",
    "        self.F = F\n",
    "\n",
    "    def __call__(self,x1,x2=None):\n",
    "        pass\n",
    "\n",
    "    def NoChecksPair(self,x1,x2):\n",
    "        return self.F(x1-x2)"
   ]
  },
  {
   "cell_type": "code",
   "execution_count": 36,
   "metadata": {},
   "outputs": [],
   "source": [
    "def f3(x):\n",
    "    return torch.sqrt(torch.sum(x*x,axis=1))"
   ]
  },
  {
   "cell_type": "code",
   "execution_count": 13,
   "metadata": {},
   "outputs": [],
   "source": [
    "my_norm = norm1(f1)\n",
    "my_norm2 = norm2(f2)"
   ]
  },
  {
   "cell_type": "code",
   "execution_count": 31,
   "metadata": {},
   "outputs": [
    {
     "output_type": "stream",
     "name": "stdout",
     "text": "CPU times: user 1.58 ms, sys: 0 ns, total: 1.58 ms\nWall time: 781 µs\n"
    },
    {
     "output_type": "execute_result",
     "data": {
      "text/plain": "tensor([0.6852, 0.6985, 1.3004,  ..., 0.1676, 0.7681, 1.1274])"
     },
     "metadata": {},
     "execution_count": 31
    }
   ],
   "source": [
    "%%time \n",
    "f1(x1,x2)"
   ]
  },
  {
   "cell_type": "code",
   "execution_count": 52,
   "metadata": {},
   "outputs": [
    {
     "output_type": "stream",
     "name": "stdout",
     "text": "CPU times: user 1.54 ms, sys: 133 µs, total: 1.67 ms\nWall time: 767 µs\n"
    },
    {
     "output_type": "execute_result",
     "data": {
      "text/plain": "tensor([0.6852, 0.6985, 1.3004,  ..., 0.1676, 0.7681, 1.1274])"
     },
     "metadata": {},
     "execution_count": 52
    }
   ],
   "source": [
    "%%time\n",
    "f2(x1-x2)"
   ]
  },
  {
   "cell_type": "code",
   "execution_count": 73,
   "metadata": {},
   "outputs": [
    {
     "output_type": "stream",
     "name": "stdout",
     "text": "CPU times: user 2.15 ms, sys: 0 ns, total: 2.15 ms\nWall time: 1.19 ms\n"
    },
    {
     "output_type": "execute_result",
     "data": {
      "text/plain": "tensor([0.6852, 0.6985, 1.3004,  ..., 0.1676, 0.7681, 1.1274])"
     },
     "metadata": {},
     "execution_count": 73
    }
   ],
   "source": [
    "%%time\n",
    "f3(x1-x2)"
   ]
  },
  {
   "cell_type": "code",
   "execution_count": 65,
   "metadata": {},
   "outputs": [
    {
     "output_type": "stream",
     "name": "stdout",
     "text": "CPU times: user 2.02 ms, sys: 48 µs, total: 2.07 ms\nWall time: 902 µs\n"
    },
    {
     "output_type": "execute_result",
     "data": {
      "text/plain": "tensor(70.2403)"
     },
     "metadata": {},
     "execution_count": 65
    }
   ],
   "source": [
    "%%time \n",
    "torch.dist(x1,x2)"
   ]
  },
  {
   "cell_type": "code",
   "execution_count": 59,
   "metadata": {},
   "outputs": [
    {
     "output_type": "stream",
     "name": "stdout",
     "text": "CPU times: user 7.11 ms, sys: 0 ns, total: 7.11 ms\nWall time: 5.53 ms\n"
    },
    {
     "output_type": "execute_result",
     "data": {
      "text/plain": "tensor([0.6852, 0.6985, 1.3004,  ..., 0.1676, 0.7681, 1.1274])"
     },
     "metadata": {},
     "execution_count": 59
    }
   ],
   "source": [
    "%%time \n",
    "torch.pairwise_distance(x1,x2)"
   ]
  },
  {
   "cell_type": "code",
   "execution_count": 52,
   "metadata": {},
   "outputs": [
    {
     "output_type": "stream",
     "name": "stdout",
     "text": "CPU times: user 2.89 ms, sys: 112 µs, total: 3 ms\nWall time: 1.66 ms\n"
    },
    {
     "output_type": "execute_result",
     "data": {
      "text/plain": "tensor([0.7760, 0.5958, 0.5961,  ..., 0.1810, 0.9821, 0.8875])"
     },
     "metadata": {},
     "execution_count": 52
    }
   ],
   "source": [
    "%%time\n",
    "my_norm.NoChecksPair(x1,x2)"
   ]
  },
  {
   "cell_type": "markdown",
   "metadata": {},
   "source": [
    "## RBFs and timing"
   ]
  },
  {
   "cell_type": "code",
   "execution_count": null,
   "metadata": {},
   "outputs": [],
   "source": []
  }
 ]
}