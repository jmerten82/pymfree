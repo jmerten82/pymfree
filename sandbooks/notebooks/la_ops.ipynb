{
 "cells": [
  {
   "cell_type": "code",
   "execution_count": 1,
   "metadata": {},
   "outputs": [],
   "source": [
    "import os\n",
    "home = os.getenv(\"HOME\")\n",
    "os.chdir(home+\"/codes/pymfree/\")"
   ]
  },
  {
   "cell_type": "code",
   "execution_count": 2,
   "metadata": {},
   "outputs": [],
   "source": [
    "import torch \n",
    "from pymfree.util.utils import insert_A_in_AP_matrix\n",
    "from pymfree.util.utils import asymmetric_distances\n",
    "from pymfree.util.utils import symmetrise_AP\n",
    "from pymfree.core.function import L2Norm"
   ]
  },
  {
   "cell_type": "code",
   "execution_count": 3,
   "metadata": {},
   "outputs": [],
   "source": [
    "norm = L2Norm()"
   ]
  },
  {
   "cell_type": "code",
   "execution_count": 4,
   "metadata": {},
   "outputs": [],
   "source": [
    "x = torch.rand(4,3)"
   ]
  },
  {
   "cell_type": "code",
   "execution_count": 5,
   "metadata": {},
   "outputs": [],
   "source": [
    "diff = asymmetric_distances(x)"
   ]
  },
  {
   "cell_type": "code",
   "execution_count": 6,
   "metadata": {},
   "outputs": [
    {
     "output_type": "execute_result",
     "data": {
      "text/plain": "tensor([[ 0.8126, -0.6735,  0.3447],\n        [-0.1283, -0.8331,  0.0822],\n        [ 0.5632, -0.4720,  0.2952],\n        [-0.9409, -0.1596, -0.2626],\n        [-0.2494,  0.2015, -0.0495],\n        [ 0.6915,  0.3611,  0.2131]])"
     },
     "metadata": {},
     "execution_count": 6
    }
   ],
   "source": [
    "diff"
   ]
  },
  {
   "cell_type": "code",
   "execution_count": 7,
   "metadata": {},
   "outputs": [],
   "source": [
    "scalar = norm(diff) "
   ]
  },
  {
   "cell_type": "code",
   "execution_count": 8,
   "metadata": {},
   "outputs": [
    {
     "output_type": "execute_result",
     "data": {
      "text/plain": "tensor([1.1103, 0.8469, 0.7919, 0.9898, 0.3244, 0.8087])"
     },
     "metadata": {},
     "execution_count": 8
    }
   ],
   "source": [
    "scalar"
   ]
  },
  {
   "cell_type": "code",
   "execution_count": 9,
   "metadata": {},
   "outputs": [],
   "source": [
    "my_try = torch.rand(2,1,6)"
   ]
  },
  {
   "cell_type": "code",
   "execution_count": 14,
   "metadata": {},
   "outputs": [
    {
     "output_type": "execute_result",
     "data": {
      "text/plain": "tensor([[[0.8491, 0.2638, 0.6330, 0.4111, 0.2552, 0.8317]],\n\n        [[0.4687, 0.4466, 0.9155, 0.0923, 0.0989, 0.8026]]])"
     },
     "metadata": {},
     "execution_count": 14
    }
   ],
   "source": [
    "my_try"
   ]
  },
  {
   "cell_type": "code",
   "execution_count": 11,
   "metadata": {},
   "outputs": [],
   "source": [
    "AP = torch.zeros(2,1,8,8)"
   ]
  },
  {
   "cell_type": "code",
   "execution_count": 12,
   "metadata": {},
   "outputs": [
    {
     "output_type": "stream",
     "name": "stdout",
     "text": "torch.Size([2, 1, 3])\ntorch.Size([2, 1, 3]) 0 3\ntorch.Size([2, 1, 2])\ntorch.Size([2, 1, 2]) 3 5\ntorch.Size([2, 1, 1])\ntorch.Size([2, 1, 1]) 5 6\n"
    }
   ],
   "source": [
    "AP = insert_A_in_AP_matrix(my_try,AP,4)"
   ]
  },
  {
   "cell_type": "code",
   "execution_count": 13,
   "metadata": {},
   "outputs": [
    {
     "output_type": "execute_result",
     "data": {
      "text/plain": "tensor([[[[0.0000, 0.8491, 0.2638, 0.6330, 0.0000, 0.0000, 0.0000, 0.0000],\n          [0.0000, 0.0000, 0.4111, 0.2552, 0.0000, 0.0000, 0.0000, 0.0000],\n          [0.0000, 0.0000, 0.0000, 0.8317, 0.0000, 0.0000, 0.0000, 0.0000],\n          [0.0000, 0.0000, 0.0000, 0.0000, 0.0000, 0.0000, 0.0000, 0.0000],\n          [0.0000, 0.0000, 0.0000, 0.0000, 0.0000, 0.0000, 0.0000, 0.0000],\n          [0.0000, 0.0000, 0.0000, 0.0000, 0.0000, 0.0000, 0.0000, 0.0000],\n          [0.0000, 0.0000, 0.0000, 0.0000, 0.0000, 0.0000, 0.0000, 0.0000],\n          [0.0000, 0.0000, 0.0000, 0.0000, 0.0000, 0.0000, 0.0000, 0.0000]]],\n\n\n        [[[0.0000, 0.4687, 0.4466, 0.9155, 0.0000, 0.0000, 0.0000, 0.0000],\n          [0.0000, 0.0000, 0.0923, 0.0989, 0.0000, 0.0000, 0.0000, 0.0000],\n          [0.0000, 0.0000, 0.0000, 0.8026, 0.0000, 0.0000, 0.0000, 0.0000],\n          [0.0000, 0.0000, 0.0000, 0.0000, 0.0000, 0.0000, 0.0000, 0.0000],\n          [0.0000, 0.0000, 0.0000, 0.0000, 0.0000, 0.0000, 0.0000, 0.0000],\n          [0.0000, 0.0000, 0.0000, 0.0000, 0.0000, 0.0000, 0.0000, 0.0000],\n          [0.0000, 0.0000, 0.0000, 0.0000, 0.0000, 0.0000, 0.0000, 0.0000],\n          [0.0000, 0.0000, 0.0000, 0.0000, 0.0000, 0.0000, 0.0000, 0.0000]]]])"
     },
     "metadata": {},
     "execution_count": 13
    }
   ],
   "source": [
    "AP"
   ]
  },
  {
   "cell_type": "code",
   "execution_count": 16,
   "metadata": {},
   "outputs": [],
   "source": [
    "AP = AP + AP.transpose(2,3)"
   ]
  },
  {
   "cell_type": "code",
   "execution_count": 17,
   "metadata": {},
   "outputs": [
    {
     "output_type": "execute_result",
     "data": {
      "text/plain": "tensor([[[[0.0000, 0.8491, 0.2638, 0.6330, 0.0000, 0.0000, 0.0000, 0.0000],\n          [0.8491, 0.0000, 0.4111, 0.2552, 0.0000, 0.0000, 0.0000, 0.0000],\n          [0.2638, 0.4111, 0.0000, 0.8317, 0.0000, 0.0000, 0.0000, 0.0000],\n          [0.6330, 0.2552, 0.8317, 0.0000, 0.0000, 0.0000, 0.0000, 0.0000],\n          [0.0000, 0.0000, 0.0000, 0.0000, 0.0000, 0.0000, 0.0000, 0.0000],\n          [0.0000, 0.0000, 0.0000, 0.0000, 0.0000, 0.0000, 0.0000, 0.0000],\n          [0.0000, 0.0000, 0.0000, 0.0000, 0.0000, 0.0000, 0.0000, 0.0000],\n          [0.0000, 0.0000, 0.0000, 0.0000, 0.0000, 0.0000, 0.0000, 0.0000]]],\n\n\n        [[[0.0000, 0.4687, 0.4466, 0.9155, 0.0000, 0.0000, 0.0000, 0.0000],\n          [0.4687, 0.0000, 0.0923, 0.0989, 0.0000, 0.0000, 0.0000, 0.0000],\n          [0.4466, 0.0923, 0.0000, 0.8026, 0.0000, 0.0000, 0.0000, 0.0000],\n          [0.9155, 0.0989, 0.8026, 0.0000, 0.0000, 0.0000, 0.0000, 0.0000],\n          [0.0000, 0.0000, 0.0000, 0.0000, 0.0000, 0.0000, 0.0000, 0.0000],\n          [0.0000, 0.0000, 0.0000, 0.0000, 0.0000, 0.0000, 0.0000, 0.0000],\n          [0.0000, 0.0000, 0.0000, 0.0000, 0.0000, 0.0000, 0.0000, 0.0000],\n          [0.0000, 0.0000, 0.0000, 0.0000, 0.0000, 0.0000, 0.0000, 0.0000]]]])"
     },
     "metadata": {},
     "execution_count": 17
    }
   ],
   "source": [
    "AP"
   ]
  },
  {
   "cell_type": "code",
   "execution_count": null,
   "metadata": {},
   "outputs": [],
   "source": []
  }
 ],
 "metadata": {
  "language_info": {
   "codemirror_mode": {
    "name": "ipython",
    "version": 3
   },
   "file_extension": ".py",
   "mimetype": "text/x-python",
   "name": "python",
   "nbconvert_exporter": "python",
   "pygments_lexer": "ipython3",
   "version": "3.7.7-final"
  },
  "orig_nbformat": 2,
  "kernelspec": {
   "name": "python37764bit35ea5608fe5f40f18ddee189641235d7",
   "display_name": "Python 3.7.7 64-bit"
  }
 },
 "nbformat": 4,
 "nbformat_minor": 2
}