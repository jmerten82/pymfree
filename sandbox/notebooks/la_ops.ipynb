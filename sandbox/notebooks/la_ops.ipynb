{
 "cells": [
  {
   "cell_type": "code",
   "execution_count": 1,
   "metadata": {},
   "outputs": [],
   "source": [
    "import os\n",
    "home = os.getenv(\"HOME\")\n",
    "os.chdir(home+\"/codes/pymfree/\")"
   ]
  },
  {
   "cell_type": "code",
   "execution_count": 2,
   "metadata": {},
   "outputs": [],
   "source": [
    "import torch \n",
    "import numpy as np\n",
    "from pymfree.util.utils import insert_A_in_AP_matrix\n",
    "from pymfree.util.utils import asymmetric_distances\n",
    "from pymfree.util.utils import symmetrise_AP\n",
    "from pymfree.core.function import L2Norm"
   ]
  },
  {
   "cell_type": "code",
   "execution_count": 3,
   "metadata": {},
   "outputs": [],
   "source": [
    "norm = L2Norm()"
   ]
  },
  {
   "cell_type": "code",
   "execution_count": 4,
   "metadata": {},
   "outputs": [],
   "source": [
    "x = torch.rand(10,1,4,3)"
   ]
  },
  {
   "cell_type": "code",
   "execution_count": 5,
   "metadata": {},
   "outputs": [],
   "source": [
    "diff = asymmetric_distances(x)"
   ]
  },
  {
   "cell_type": "code",
   "execution_count": 7,
   "metadata": {},
   "outputs": [
    {
     "output_type": "execute_result",
     "data": {
      "text/plain": "torch.Size([10, 1, 6, 3])"
     },
     "metadata": {},
     "execution_count": 7
    }
   ],
   "source": [
    "diff.shape"
   ]
  },
  {
   "cell_type": "code",
   "execution_count": 10,
   "metadata": {},
   "outputs": [
    {
     "output_type": "execute_result",
     "data": {
      "text/plain": "torch.Size([180])"
     },
     "metadata": {},
     "execution_count": 10
    }
   ],
   "source": [
    "diff.reshape(-1).shape"
   ]
  },
  {
   "cell_type": "code",
   "execution_count": 7,
   "metadata": {},
   "outputs": [],
   "source": [
    "scalar = norm(diff) "
   ]
  },
  {
   "cell_type": "code",
   "execution_count": 8,
   "metadata": {},
   "outputs": [
    {
     "output_type": "execute_result",
     "data": {
      "text/plain": "tensor([1.1103, 0.8469, 0.7919, 0.9898, 0.3244, 0.8087])"
     },
     "metadata": {},
     "execution_count": 8
    }
   ],
   "source": [
    "scalar"
   ]
  },
  {
   "cell_type": "code",
   "execution_count": 9,
   "metadata": {},
   "outputs": [],
   "source": [
    "my_try = torch.rand(2,1,6)"
   ]
  },
  {
   "cell_type": "code",
   "execution_count": 14,
   "metadata": {},
   "outputs": [
    {
     "output_type": "execute_result",
     "data": {
      "text/plain": "tensor([[[0.8491, 0.2638, 0.6330, 0.4111, 0.2552, 0.8317]],\n\n        [[0.4687, 0.4466, 0.9155, 0.0923, 0.0989, 0.8026]]])"
     },
     "metadata": {},
     "execution_count": 14
    }
   ],
   "source": [
    "my_try"
   ]
  },
  {
   "cell_type": "code",
   "execution_count": 11,
   "metadata": {},
   "outputs": [],
   "source": [
    "AP = torch.zeros(2,1,8,8)"
   ]
  },
  {
   "cell_type": "code",
   "execution_count": 12,
   "metadata": {},
   "outputs": [
    {
     "output_type": "stream",
     "name": "stdout",
     "text": "torch.Size([2, 1, 3])\ntorch.Size([2, 1, 3]) 0 3\ntorch.Size([2, 1, 2])\ntorch.Size([2, 1, 2]) 3 5\ntorch.Size([2, 1, 1])\ntorch.Size([2, 1, 1]) 5 6\n"
    }
   ],
   "source": [
    "AP = insert_A_in_AP_matrix(my_try,AP,4)"
   ]
  },
  {
   "cell_type": "code",
   "execution_count": 13,
   "metadata": {},
   "outputs": [
    {
     "output_type": "execute_result",
     "data": {
      "text/plain": "tensor([[[[0.0000, 0.8491, 0.2638, 0.6330, 0.0000, 0.0000, 0.0000, 0.0000],\n          [0.0000, 0.0000, 0.4111, 0.2552, 0.0000, 0.0000, 0.0000, 0.0000],\n          [0.0000, 0.0000, 0.0000, 0.8317, 0.0000, 0.0000, 0.0000, 0.0000],\n          [0.0000, 0.0000, 0.0000, 0.0000, 0.0000, 0.0000, 0.0000, 0.0000],\n          [0.0000, 0.0000, 0.0000, 0.0000, 0.0000, 0.0000, 0.0000, 0.0000],\n          [0.0000, 0.0000, 0.0000, 0.0000, 0.0000, 0.0000, 0.0000, 0.0000],\n          [0.0000, 0.0000, 0.0000, 0.0000, 0.0000, 0.0000, 0.0000, 0.0000],\n          [0.0000, 0.0000, 0.0000, 0.0000, 0.0000, 0.0000, 0.0000, 0.0000]]],\n\n\n        [[[0.0000, 0.4687, 0.4466, 0.9155, 0.0000, 0.0000, 0.0000, 0.0000],\n          [0.0000, 0.0000, 0.0923, 0.0989, 0.0000, 0.0000, 0.0000, 0.0000],\n          [0.0000, 0.0000, 0.0000, 0.8026, 0.0000, 0.0000, 0.0000, 0.0000],\n          [0.0000, 0.0000, 0.0000, 0.0000, 0.0000, 0.0000, 0.0000, 0.0000],\n          [0.0000, 0.0000, 0.0000, 0.0000, 0.0000, 0.0000, 0.0000, 0.0000],\n          [0.0000, 0.0000, 0.0000, 0.0000, 0.0000, 0.0000, 0.0000, 0.0000],\n          [0.0000, 0.0000, 0.0000, 0.0000, 0.0000, 0.0000, 0.0000, 0.0000],\n          [0.0000, 0.0000, 0.0000, 0.0000, 0.0000, 0.0000, 0.0000, 0.0000]]]])"
     },
     "metadata": {},
     "execution_count": 13
    }
   ],
   "source": [
    "AP"
   ]
  },
  {
   "cell_type": "code",
   "execution_count": 16,
   "metadata": {},
   "outputs": [],
   "source": [
    "AP = AP + AP.transpose(2,3)"
   ]
  },
  {
   "cell_type": "code",
   "execution_count": 17,
   "metadata": {},
   "outputs": [
    {
     "output_type": "execute_result",
     "data": {
      "text/plain": "tensor([[[[0.0000, 0.8491, 0.2638, 0.6330, 0.0000, 0.0000, 0.0000, 0.0000],\n          [0.8491, 0.0000, 0.4111, 0.2552, 0.0000, 0.0000, 0.0000, 0.0000],\n          [0.2638, 0.4111, 0.0000, 0.8317, 0.0000, 0.0000, 0.0000, 0.0000],\n          [0.6330, 0.2552, 0.8317, 0.0000, 0.0000, 0.0000, 0.0000, 0.0000],\n          [0.0000, 0.0000, 0.0000, 0.0000, 0.0000, 0.0000, 0.0000, 0.0000],\n          [0.0000, 0.0000, 0.0000, 0.0000, 0.0000, 0.0000, 0.0000, 0.0000],\n          [0.0000, 0.0000, 0.0000, 0.0000, 0.0000, 0.0000, 0.0000, 0.0000],\n          [0.0000, 0.0000, 0.0000, 0.0000, 0.0000, 0.0000, 0.0000, 0.0000]]],\n\n\n        [[[0.0000, 0.4687, 0.4466, 0.9155, 0.0000, 0.0000, 0.0000, 0.0000],\n          [0.4687, 0.0000, 0.0923, 0.0989, 0.0000, 0.0000, 0.0000, 0.0000],\n          [0.4466, 0.0923, 0.0000, 0.8026, 0.0000, 0.0000, 0.0000, 0.0000],\n          [0.9155, 0.0989, 0.8026, 0.0000, 0.0000, 0.0000, 0.0000, 0.0000],\n          [0.0000, 0.0000, 0.0000, 0.0000, 0.0000, 0.0000, 0.0000, 0.0000],\n          [0.0000, 0.0000, 0.0000, 0.0000, 0.0000, 0.0000, 0.0000, 0.0000],\n          [0.0000, 0.0000, 0.0000, 0.0000, 0.0000, 0.0000, 0.0000, 0.0000],\n          [0.0000, 0.0000, 0.0000, 0.0000, 0.0000, 0.0000, 0.0000, 0.0000]]]])"
     },
     "metadata": {},
     "execution_count": 17
    }
   ],
   "source": [
    "AP"
   ]
  },
  {
   "cell_type": "code",
   "execution_count": 17,
   "metadata": {},
   "outputs": [],
   "source": [
    "timeing = torch.rand(10000,1,32,3)"
   ]
  },
  {
   "cell_type": "code",
   "execution_count": 38,
   "metadata": {},
   "outputs": [
    {
     "output_type": "stream",
     "name": "stdout",
     "text": "CPU times: user 6.9 ms, sys: 297 µs, total: 7.2 ms\nWall time: 2.3 ms\n"
    }
   ],
   "source": [
    "%%time\n",
    "out = torch.pow(timeing,2)"
   ]
  },
  {
   "cell_type": "code",
   "execution_count": 39,
   "metadata": {},
   "outputs": [
    {
     "output_type": "stream",
     "name": "stdout",
     "text": "CPU times: user 9.69 ms, sys: 71 µs, total: 9.76 ms\nWall time: 7.18 ms\n"
    }
   ],
   "source": [
    "%%time\n",
    "out = []\n",
    "for i in range(100):\n",
    "    out.append(torch.pow(timeing[i,0,:,:],2))\n",
    "out = torch.stack(out).unsqueeze(1)"
   ]
  },
  {
   "cell_type": "code",
   "execution_count": 31,
   "metadata": {},
   "outputs": [
    {
     "output_type": "execute_result",
     "data": {
      "text/plain": "torch.Size([100, 1, 32, 3])"
     },
     "metadata": {},
     "execution_count": 31
    }
   ],
   "source": [
    "out.shape"
   ]
  },
  {
   "cell_type": "code",
   "execution_count": 6,
   "metadata": {},
   "outputs": [],
   "source": [
    "newx = torch.rand(10,1,10,3)"
   ]
  },
  {
   "cell_type": "code",
   "execution_count": 7,
   "metadata": {},
   "outputs": [
    {
     "output_type": "execute_result",
     "data": {
      "text/plain": "tensor([[[[-0.0576,  0.3204, -0.4223],\n          [ 0.0816, -0.3339, -0.8451],\n          [ 0.1656, -0.3345, -0.2682],\n          [ 0.5215,  0.2270, -0.8511],\n          [-0.2540, -0.3154, -0.1476],\n          [ 0.0442, -0.4684, -0.3170],\n          [ 0.1111,  0.1225, -0.3551],\n          [ 0.2815,  0.1587, -0.2181],\n          [-0.2793,  0.2973, -0.2141]]],\n\n\n        [[[ 0.7573,  0.6412, -0.1278],\n          [ 0.1225, -0.2664, -0.1732],\n          [-0.1381, -0.0250,  0.2396],\n          [ 0.3205, -0.0775, -0.7031],\n          [ 0.1957,  0.3311,  0.1838],\n          [ 0.2961, -0.1205, -0.6274],\n          [ 0.3403,  0.6015,  0.0732],\n          [ 0.5638, -0.2678, -0.3201],\n          [ 0.6781,  0.2692, -0.0844]]],\n\n\n        [[[-0.0727,  0.4464, -0.1176],\n          [-0.4191, -0.1918, -0.3652],\n          [-0.9419,  0.1777,  0.0230],\n          [ 0.0123, -0.3120, -0.3108],\n          [-0.2220, -0.1711,  0.4222],\n          [-0.2799,  0.0845, -0.3527],\n          [-0.8233, -0.3888, -0.1663],\n          [-0.2451, -0.3307,  0.3516],\n          [-0.8182,  0.1718, -0.2007]]],\n\n\n        [[[ 0.1751, -0.2617, -0.2967],\n          [ 0.0766, -0.1765, -0.4145],\n          [-0.1787, -0.3873, -0.4548],\n          [-0.4590, -0.1530, -0.1989],\n          [ 0.1442, -0.2210, -0.1624],\n          [-0.1289, -0.4382,  0.0253],\n          [ 0.2404,  0.1055, -0.3316],\n          [-0.3829, -0.5014, -0.2315],\n          [-0.4022,  0.0735,  0.3685]]],\n\n\n        [[[-0.0805, -0.3382, -0.6030],\n          [-0.4758, -0.9230, -0.5837],\n          [-0.6886, -0.7667, -0.2856],\n          [ 0.0624, -0.2352, -0.6513],\n          [-0.0420, -0.6225, -0.6710],\n          [ 0.1789, -0.1593,  0.0387],\n          [-0.6307, -0.7152,  0.0011],\n          [-0.2079,  0.0211, -0.4219],\n          [-0.5591, -0.0771, -0.4673]]],\n\n\n        [[[-0.0835,  0.6054,  0.1121],\n          [ 0.6492,  0.3696,  0.0353],\n          [-0.0059,  0.2795, -0.1385],\n          [ 0.7935,  0.8437, -0.0140],\n          [ 0.6532,  0.3299, -0.1408],\n          [ 0.2446,  0.3971, -0.0557],\n          [ 0.4417,  0.0077, -0.3743],\n          [ 0.0768,  0.0142,  0.1153],\n          [ 0.6684,  0.8050,  0.1878]]],\n\n\n        [[[ 0.6119, -0.6395,  0.0685],\n          [-0.0370, -0.4714,  0.2826],\n          [ 0.6692, -0.8082,  0.8334],\n          [ 0.1122, -0.0581,  0.2033],\n          [ 0.5310, -0.0921,  0.1745],\n          [ 0.1090, -0.9108,  0.0074],\n          [ 0.5957, -0.3667,  0.3581],\n          [ 0.0557, -0.8402,  0.6015],\n          [ 0.2157, -0.0404,  0.6186]]],\n\n\n        [[[ 0.2491,  0.0824,  0.3824],\n          [-0.0264,  0.6019,  0.1444],\n          [-0.0561,  0.5045,  0.3314],\n          [ 0.4836,  0.0761,  0.0627],\n          [ 0.5015,  0.3823,  0.5341],\n          [ 0.1387,  0.1809, -0.0785],\n          [-0.3444,  0.6151,  0.4251],\n          [ 0.2114, -0.0024,  0.3237],\n          [-0.0903,  0.4667,  0.1516]]],\n\n\n        [[[-0.1272, -0.6128, -0.0274],\n          [ 0.6594, -0.8731,  0.3824],\n          [ 0.1738, -0.2914,  0.5775],\n          [ 0.0693, -0.7603,  0.5732],\n          [ 0.2364, -0.2736,  0.7165],\n          [ 0.2270, -0.6415,  0.2167],\n          [-0.0087, -0.8730,  0.1510],\n          [ 0.1097, -0.8643,  0.8415],\n          [ 0.7255, -0.1522,  0.0452]]],\n\n\n        [[[-0.4064,  0.0736, -0.1210],\n          [ 0.0366, -0.4138, -0.4810],\n          [-0.5303,  0.4021, -0.7407],\n          [-0.4357, -0.3691, -0.3624],\n          [ 0.0202, -0.0902, -0.5852],\n          [ 0.0289, -0.1010, -0.6520],\n          [-0.6967, -0.3157, -0.3984],\n          [-0.4169, -0.2048,  0.0876],\n          [-0.2142,  0.4492, -0.4663]]]])"
     },
     "metadata": {},
     "execution_count": 7
    }
   ],
   "source": [
    "newx[:,:,0:1] - newx[:,:,1:]"
   ]
  },
  {
   "cell_type": "code",
   "execution_count": 49,
   "metadata": {},
   "outputs": [
    {
     "output_type": "execute_result",
     "data": {
      "text/plain": "torch.Size([10, 1, 3])"
     },
     "metadata": {},
     "execution_count": 49
    }
   ],
   "source": [
    "newx[:,0,0:1,:].shape"
   ]
  },
  {
   "cell_type": "code",
   "execution_count": 48,
   "metadata": {},
   "outputs": [
    {
     "output_type": "execute_result",
     "data": {
      "text/plain": "torch.Size([10, 9, 3])"
     },
     "metadata": {},
     "execution_count": 48
    }
   ],
   "source": [
    "newx[:,0,1:,:].shape"
   ]
  },
  {
   "cell_type": "code",
   "execution_count": 11,
   "metadata": {},
   "outputs": [],
   "source": [
    "coordinates = torch.rand(10,3)"
   ]
  },
  {
   "cell_type": "code",
   "execution_count": 12,
   "metadata": {},
   "outputs": [],
   "source": [
    "indeces = torch.randint(10,(10,10))"
   ]
  },
  {
   "cell_type": "code",
   "execution_count": 13,
   "metadata": {},
   "outputs": [
    {
     "output_type": "execute_result",
     "data": {
      "text/plain": "tensor([[2, 6, 4, 5, 2, 0, 0, 1, 0, 8],\n        [8, 0, 4, 3, 8, 7, 0, 4, 1, 9],\n        [9, 0, 9, 2, 4, 1, 0, 4, 8, 8],\n        [1, 6, 6, 5, 6, 2, 3, 0, 9, 8],\n        [4, 9, 3, 0, 1, 0, 2, 1, 5, 2],\n        [4, 5, 1, 6, 7, 8, 1, 3, 4, 0],\n        [6, 4, 2, 5, 8, 9, 9, 4, 2, 0],\n        [4, 2, 7, 2, 9, 1, 0, 7, 5, 3],\n        [1, 0, 6, 2, 5, 5, 5, 9, 8, 7],\n        [5, 9, 9, 1, 9, 0, 2, 0, 0, 2]])"
     },
     "metadata": {},
     "execution_count": 13
    }
   ],
   "source": [
    "indeces"
   ]
  },
  {
   "cell_type": "code",
   "execution_count": 17,
   "metadata": {},
   "outputs": [
    {
     "output_type": "execute_result",
     "data": {
      "text/plain": "tensor([0.6212, 0.5242, 0.7471])"
     },
     "metadata": {},
     "execution_count": 17
    }
   ],
   "source": [
    "coordinates[8]"
   ]
  },
  {
   "cell_type": "code",
   "execution_count": 14,
   "metadata": {},
   "outputs": [
    {
     "output_type": "execute_result",
     "data": {
      "text/plain": "tensor([[[9.7161e-01, 5.6219e-01, 8.1246e-01],\n         [6.7323e-01, 8.3049e-01, 2.3087e-01],\n         [7.2437e-01, 1.8942e-01, 6.0114e-01],\n         [1.5602e-01, 9.9132e-01, 7.5928e-01],\n         [9.7161e-01, 5.6219e-01, 8.1246e-01],\n         [4.8044e-01, 2.0337e-01, 5.8587e-01],\n         [4.8044e-01, 2.0337e-01, 5.8587e-01],\n         [7.8971e-01, 8.0188e-01, 1.1340e-01],\n         [4.8044e-01, 2.0337e-01, 5.8587e-01],\n         [6.2123e-01, 5.2423e-01, 7.4708e-01]],\n\n        [[6.2123e-01, 5.2423e-01, 7.4708e-01],\n         [4.8044e-01, 2.0337e-01, 5.8587e-01],\n         [7.2437e-01, 1.8942e-01, 6.0114e-01],\n         [1.0905e-01, 2.6029e-04, 3.3363e-01],\n         [6.2123e-01, 5.2423e-01, 7.4708e-01],\n         [8.4762e-01, 7.2292e-01, 7.9634e-01],\n         [4.8044e-01, 2.0337e-01, 5.8587e-01],\n         [7.2437e-01, 1.8942e-01, 6.0114e-01],\n         [7.8971e-01, 8.0188e-01, 1.1340e-01],\n         [7.7508e-01, 8.3921e-01, 4.0363e-01]],\n\n        [[7.7508e-01, 8.3921e-01, 4.0363e-01],\n         [4.8044e-01, 2.0337e-01, 5.8587e-01],\n         [7.7508e-01, 8.3921e-01, 4.0363e-01],\n         [9.7161e-01, 5.6219e-01, 8.1246e-01],\n         [7.2437e-01, 1.8942e-01, 6.0114e-01],\n         [7.8971e-01, 8.0188e-01, 1.1340e-01],\n         [4.8044e-01, 2.0337e-01, 5.8587e-01],\n         [7.2437e-01, 1.8942e-01, 6.0114e-01],\n         [6.2123e-01, 5.2423e-01, 7.4708e-01],\n         [6.2123e-01, 5.2423e-01, 7.4708e-01]],\n\n        [[7.8971e-01, 8.0188e-01, 1.1340e-01],\n         [6.7323e-01, 8.3049e-01, 2.3087e-01],\n         [6.7323e-01, 8.3049e-01, 2.3087e-01],\n         [1.5602e-01, 9.9132e-01, 7.5928e-01],\n         [6.7323e-01, 8.3049e-01, 2.3087e-01],\n         [9.7161e-01, 5.6219e-01, 8.1246e-01],\n         [1.0905e-01, 2.6029e-04, 3.3363e-01],\n         [4.8044e-01, 2.0337e-01, 5.8587e-01],\n         [7.7508e-01, 8.3921e-01, 4.0363e-01],\n         [6.2123e-01, 5.2423e-01, 7.4708e-01]],\n\n        [[7.2437e-01, 1.8942e-01, 6.0114e-01],\n         [7.7508e-01, 8.3921e-01, 4.0363e-01],\n         [1.0905e-01, 2.6029e-04, 3.3363e-01],\n         [4.8044e-01, 2.0337e-01, 5.8587e-01],\n         [7.8971e-01, 8.0188e-01, 1.1340e-01],\n         [4.8044e-01, 2.0337e-01, 5.8587e-01],\n         [9.7161e-01, 5.6219e-01, 8.1246e-01],\n         [7.8971e-01, 8.0188e-01, 1.1340e-01],\n         [1.5602e-01, 9.9132e-01, 7.5928e-01],\n         [9.7161e-01, 5.6219e-01, 8.1246e-01]],\n\n        [[7.2437e-01, 1.8942e-01, 6.0114e-01],\n         [1.5602e-01, 9.9132e-01, 7.5928e-01],\n         [7.8971e-01, 8.0188e-01, 1.1340e-01],\n         [6.7323e-01, 8.3049e-01, 2.3087e-01],\n         [8.4762e-01, 7.2292e-01, 7.9634e-01],\n         [6.2123e-01, 5.2423e-01, 7.4708e-01],\n         [7.8971e-01, 8.0188e-01, 1.1340e-01],\n         [1.0905e-01, 2.6029e-04, 3.3363e-01],\n         [7.2437e-01, 1.8942e-01, 6.0114e-01],\n         [4.8044e-01, 2.0337e-01, 5.8587e-01]],\n\n        [[6.7323e-01, 8.3049e-01, 2.3087e-01],\n         [7.2437e-01, 1.8942e-01, 6.0114e-01],\n         [9.7161e-01, 5.6219e-01, 8.1246e-01],\n         [1.5602e-01, 9.9132e-01, 7.5928e-01],\n         [6.2123e-01, 5.2423e-01, 7.4708e-01],\n         [7.7508e-01, 8.3921e-01, 4.0363e-01],\n         [7.7508e-01, 8.3921e-01, 4.0363e-01],\n         [7.2437e-01, 1.8942e-01, 6.0114e-01],\n         [9.7161e-01, 5.6219e-01, 8.1246e-01],\n         [4.8044e-01, 2.0337e-01, 5.8587e-01]],\n\n        [[7.2437e-01, 1.8942e-01, 6.0114e-01],\n         [9.7161e-01, 5.6219e-01, 8.1246e-01],\n         [8.4762e-01, 7.2292e-01, 7.9634e-01],\n         [9.7161e-01, 5.6219e-01, 8.1246e-01],\n         [7.7508e-01, 8.3921e-01, 4.0363e-01],\n         [7.8971e-01, 8.0188e-01, 1.1340e-01],\n         [4.8044e-01, 2.0337e-01, 5.8587e-01],\n         [8.4762e-01, 7.2292e-01, 7.9634e-01],\n         [1.5602e-01, 9.9132e-01, 7.5928e-01],\n         [1.0905e-01, 2.6029e-04, 3.3363e-01]],\n\n        [[7.8971e-01, 8.0188e-01, 1.1340e-01],\n         [4.8044e-01, 2.0337e-01, 5.8587e-01],\n         [6.7323e-01, 8.3049e-01, 2.3087e-01],\n         [9.7161e-01, 5.6219e-01, 8.1246e-01],\n         [1.5602e-01, 9.9132e-01, 7.5928e-01],\n         [1.5602e-01, 9.9132e-01, 7.5928e-01],\n         [1.5602e-01, 9.9132e-01, 7.5928e-01],\n         [7.7508e-01, 8.3921e-01, 4.0363e-01],\n         [6.2123e-01, 5.2423e-01, 7.4708e-01],\n         [8.4762e-01, 7.2292e-01, 7.9634e-01]],\n\n        [[1.5602e-01, 9.9132e-01, 7.5928e-01],\n         [7.7508e-01, 8.3921e-01, 4.0363e-01],\n         [7.7508e-01, 8.3921e-01, 4.0363e-01],\n         [7.8971e-01, 8.0188e-01, 1.1340e-01],\n         [7.7508e-01, 8.3921e-01, 4.0363e-01],\n         [4.8044e-01, 2.0337e-01, 5.8587e-01],\n         [9.7161e-01, 5.6219e-01, 8.1246e-01],\n         [4.8044e-01, 2.0337e-01, 5.8587e-01],\n         [4.8044e-01, 2.0337e-01, 5.8587e-01],\n         [9.7161e-01, 5.6219e-01, 8.1246e-01]]])"
     },
     "metadata": {},
     "execution_count": 14
    }
   ],
   "source": [
    "coordinates[indeces]"
   ]
  },
  {
   "cell_type": "code",
   "execution_count": 20,
   "metadata": {},
   "outputs": [
    {
     "output_type": "error",
     "ename": "AttributeError",
     "evalue": "module 'torch' has no attribute 'get_default_tensor_type'",
     "traceback": [
      "\u001b[0;31m---------------------------------------------------------------------------\u001b[0m",
      "\u001b[0;31mAttributeError\u001b[0m                            Traceback (most recent call last)",
      "\u001b[0;32m<ipython-input-20-159700eb45c1>\u001b[0m in \u001b[0;36m<module>\u001b[0;34m\u001b[0m\n\u001b[0;32m----> 1\u001b[0;31m \u001b[0mtorch\u001b[0m\u001b[0;34m.\u001b[0m\u001b[0mget_default_tensor_type\u001b[0m\u001b[0;34m(\u001b[0m\u001b[0;34m)\u001b[0m\u001b[0;34m\u001b[0m\u001b[0;34m\u001b[0m\u001b[0m\n\u001b[0m",
      "\u001b[0;31mAttributeError\u001b[0m: module 'torch' has no attribute 'get_default_tensor_type'"
     ]
    }
   ],
   "source": [
    "torch.get_default_tensor_type()"
   ]
  },
  {
   "cell_type": "code",
   "execution_count": 21,
   "metadata": {},
   "outputs": [
    {
     "output_type": "execute_result",
     "data": {
      "text/plain": "torch.cuda.FloatTensor"
     },
     "metadata": {},
     "execution_count": 21
    }
   ],
   "source": [
    "torch.cuda.FloatTensor"
   ]
  },
  {
   "cell_type": "code",
   "execution_count": 22,
   "metadata": {},
   "outputs": [
    {
     "output_type": "execute_result",
     "data": {
      "text/plain": "torch.device"
     },
     "metadata": {},
     "execution_count": 22
    }
   ],
   "source": [
    "type(torch.device('cpu'))"
   ]
  },
  {
   "cell_type": "code",
   "execution_count": 25,
   "metadata": {},
   "outputs": [
    {
     "output_type": "execute_result",
     "data": {
      "text/plain": "torch.device"
     },
     "metadata": {},
     "execution_count": 25
    }
   ],
   "source": [
    "type(x.device)"
   ]
  },
  {
   "cell_type": "code",
   "execution_count": 46,
   "metadata": {},
   "outputs": [],
   "source": [
    "list = ['one', 'two', 'three']\n",
    "query = 'three'"
   ]
  },
  {
   "cell_type": "code",
   "execution_count": 50,
   "metadata": {},
   "outputs": [],
   "source": [
    "indeces = [i for i, word in enumerate(list) if word == query]"
   ]
  },
  {
   "cell_type": "code",
   "execution_count": 48,
   "metadata": {},
   "outputs": [
    {
     "output_type": "execute_result",
     "data": {
      "text/plain": "[2]"
     },
     "metadata": {},
     "execution_count": 48
    }
   ],
   "source": [
    "indeces"
   ]
  },
  {
   "cell_type": "code",
   "execution_count": 31,
   "metadata": {},
   "outputs": [
    {
     "output_type": "execute_result",
     "data": {
      "text/plain": "False"
     },
     "metadata": {},
     "execution_count": 31
    }
   ],
   "source": [
    "isinstance(query, str)"
   ]
  },
  {
   "cell_type": "code",
   "execution_count": 32,
   "metadata": {},
   "outputs": [],
   "source": [
    "test = torch.rand(4)"
   ]
  },
  {
   "cell_type": "code",
   "execution_count": 33,
   "metadata": {},
   "outputs": [],
   "source": [
    "values = [4.3,3.4]"
   ]
  },
  {
   "cell_type": "code",
   "execution_count": 34,
   "metadata": {},
   "outputs": [],
   "source": [
    "indx = [0,3]"
   ]
  },
  {
   "cell_type": "code",
   "execution_count": 37,
   "metadata": {},
   "outputs": [],
   "source": [
    "test[indx] = torch.tensor(values)"
   ]
  },
  {
   "cell_type": "code",
   "execution_count": 38,
   "metadata": {},
   "outputs": [
    {
     "output_type": "execute_result",
     "data": {
      "text/plain": "tensor([4.3000, 0.2429, 0.0997, 3.4000])"
     },
     "metadata": {},
     "execution_count": 38
    }
   ],
   "source": [
    "test"
   ]
  },
  {
   "cell_type": "code",
   "execution_count": 51,
   "metadata": {},
   "outputs": [],
   "source": [
    "test[indeces] = 4.5"
   ]
  },
  {
   "cell_type": "code",
   "execution_count": 52,
   "metadata": {},
   "outputs": [
    {
     "output_type": "execute_result",
     "data": {
      "text/plain": "tensor([4.3000, 0.2429, 4.5000, 3.4000])"
     },
     "metadata": {},
     "execution_count": 52
    }
   ],
   "source": [
    "test"
   ]
  },
  {
   "cell_type": "code",
   "execution_count": 54,
   "metadata": {},
   "outputs": [
    {
     "output_type": "execute_result",
     "data": {
      "text/plain": "'4.300000190734863'"
     },
     "metadata": {},
     "execution_count": 54
    }
   ],
   "source": [
    "str(test[0].item())"
   ]
  },
  {
   "cell_type": "code",
   "execution_count": 55,
   "metadata": {},
   "outputs": [
    {
     "output_type": "execute_result",
     "data": {
      "text/plain": "tensor([4.3000, 0.2429, 4.5000, 3.4000])"
     },
     "metadata": {},
     "execution_count": 55
    }
   ],
   "source": [
    "test.to(torch.device('cpu'))"
   ]
  },
  {
   "cell_type": "code",
   "execution_count": 56,
   "metadata": {},
   "outputs": [
    {
     "output_type": "error",
     "ename": "AttributeError",
     "evalue": "module 'torch' has no attribute 'to'",
     "traceback": [
      "\u001b[0;31m---------------------------------------------------------------------------\u001b[0m",
      "\u001b[0;31mAttributeError\u001b[0m                            Traceback (most recent call last)",
      "\u001b[0;32m<ipython-input-56-d6a14f131656>\u001b[0m in \u001b[0;36m<module>\u001b[0;34m\u001b[0m\n\u001b[0;32m----> 1\u001b[0;31m \u001b[0mtorch\u001b[0m\u001b[0;34m.\u001b[0m\u001b[0mto\u001b[0m\u001b[0;34m(\u001b[0m\u001b[0mtest\u001b[0m\u001b[0;34m,\u001b[0m\u001b[0mtorch\u001b[0m\u001b[0;34m.\u001b[0m\u001b[0mdevice\u001b[0m\u001b[0;34m(\u001b[0m\u001b[0;34m'cpu'\u001b[0m\u001b[0;34m)\u001b[0m\u001b[0;34m)\u001b[0m\u001b[0;34m\u001b[0m\u001b[0;34m\u001b[0m\u001b[0m\n\u001b[0m",
      "\u001b[0;31mAttributeError\u001b[0m: module 'torch' has no attribute 'to'"
     ]
    }
   ],
   "source": [
    "torch.to(test,torch.device('cpu'))"
   ]
  },
  {
   "cell_type": "code",
   "execution_count": 4,
   "metadata": {},
   "outputs": [
    {
     "output_type": "execute_result",
     "data": {
      "text/plain": "array([[0.26949575, 0.35836919, 0.19105091],\n       [0.76984487, 0.66057096, 0.29151179],\n       [0.92544005, 0.2203059 , 0.41525836],\n       [0.64671806, 0.72740072, 0.07899761],\n       [0.48486077, 0.04440498, 0.79555028],\n       [0.71290384, 0.78598254, 0.13961501],\n       [0.96916291, 0.84814261, 0.90211771],\n       [0.4955048 , 0.19944255, 0.94577919],\n       [0.48913701, 0.30499959, 0.87072803],\n       [0.72558112, 0.61545471, 0.22941455]])"
     },
     "metadata": {},
     "execution_count": 4
    }
   ],
   "source": [
    "np.random.rand(10,3)"
   ]
  },
  {
   "cell_type": "code",
   "execution_count": 5,
   "metadata": {},
   "outputs": [],
   "source": [
    "from pymfree.util.functional import l2"
   ]
  },
  {
   "cell_type": "code",
   "execution_count": 12,
   "metadata": {},
   "outputs": [
    {
     "output_type": "execute_result",
     "data": {
      "text/plain": "'l2'"
     },
     "metadata": {},
     "execution_count": 12
    }
   ],
   "source": [
    "str(l2.__name__)"
   ]
  },
  {
   "cell_type": "code",
   "execution_count": 7,
   "metadata": {},
   "outputs": [
    {
     "output_type": "error",
     "ename": "TypeError",
     "evalue": "l2() missing 1 required positional argument: 'x'",
     "traceback": [
      "\u001b[0;31m---------------------------------------------------------------------------\u001b[0m",
      "\u001b[0;31mTypeError\u001b[0m                                 Traceback (most recent call last)",
      "\u001b[0;32m<ipython-input-7-7338449f69b3>\u001b[0m in \u001b[0;36m<module>\u001b[0;34m\u001b[0m\n\u001b[0;32m----> 1\u001b[0;31m \u001b[0mmyl2\u001b[0m \u001b[0;34m=\u001b[0m \u001b[0ml2\u001b[0m\u001b[0;34m(\u001b[0m\u001b[0;34m)\u001b[0m\u001b[0;34m\u001b[0m\u001b[0;34m\u001b[0m\u001b[0m\n\u001b[0m",
      "\u001b[0;31mTypeError\u001b[0m: l2() missing 1 required positional argument: 'x'"
     ]
    }
   ],
   "source": [
    "myl2 = l2()"
   ]
  },
  {
   "cell_type": "code",
   "execution_count": 20,
   "metadata": {},
   "outputs": [
    {
     "output_type": "stream",
     "text": "\u001b[0;31mInit signature:\u001b[0m \u001b[0mL2Norm\u001b[0m\u001b[0;34m(\u001b[0m\u001b[0mnumpy\u001b[0m\u001b[0;34m=\u001b[0m\u001b[0;32mFalse\u001b[0m\u001b[0;34m)\u001b[0m\u001b[0;34m\u001b[0m\u001b[0;34m\u001b[0m\u001b[0m\n\u001b[0;31mSource:\u001b[0m        \n\u001b[0;32mclass\u001b[0m \u001b[0mL2Norm\u001b[0m\u001b[0;34m(\u001b[0m\u001b[0mNorm\u001b[0m\u001b[0;34m)\u001b[0m\u001b[0;34m:\u001b[0m\u001b[0;34m\u001b[0m\n\u001b[0;34m\u001b[0m    \u001b[0;34mr\"\"\" A fast-lane implementation of the l2-norm.\u001b[0m\n\u001b[0;34m\u001b[0m\n\u001b[0;34m    This inherits from Norm and delivers the l2-norm by simply calling\u001b[0m\n\u001b[0;34m    the general constructor with fixed function l2.\u001b[0m\n\u001b[0;34m\u001b[0m\n\u001b[0;34m    Parameters\u001b[0m\n\u001b[0;34m    ----------\u001b[0m\n\u001b[0;34m    numpy : bool, optional\u001b[0m\n\u001b[0;34m        Falg indication if the output shall be a numpy array instead of a\u001b[0m\n\u001b[0;34m        torch tensor. Default to False.\u001b[0m\n\u001b[0;34m\u001b[0m\n\u001b[0;34m\u001b[0m\n\u001b[0;34m    See also\u001b[0m\n\u001b[0;34m    --------\u001b[0m\n\u001b[0;34m    pymfree.core.function.Norm\u001b[0m\n\u001b[0;34m\u001b[0m\n\u001b[0;34m    References\u001b[0m\n\u001b[0;34m    ----------\u001b[0m\n\u001b[0;34m    [1] [L2-Norm on Wolfram](https://mathworld.wolfram.com/L2-Norm.html)\u001b[0m\n\u001b[0;34m    r\"\"\"\u001b[0m\u001b[0;34m\u001b[0m\n\u001b[0;34m\u001b[0m    \u001b[0;32mdef\u001b[0m \u001b[0m__init__\u001b[0m\u001b[0;34m(\u001b[0m\u001b[0mself\u001b[0m\u001b[0;34m,\u001b[0m \u001b[0mnumpy\u001b[0m\u001b[0;34m=\u001b[0m\u001b[0;32mFalse\u001b[0m\u001b[0;34m)\u001b[0m\u001b[0;34m:\u001b[0m\u001b[0;34m\u001b[0m\n\u001b[0;34m\u001b[0m        \u001b[0msuper\u001b[0m\u001b[0;34m(\u001b[0m\u001b[0;34m)\u001b[0m\u001b[0;34m.\u001b[0m\u001b[0m__init__\u001b[0m\u001b[0;34m(\u001b[0m\u001b[0ml2\u001b[0m\u001b[0;34m,\u001b[0m \u001b[0mnumpy\u001b[0m\u001b[0;34m)\u001b[0m\u001b[0;34m\u001b[0m\u001b[0;34m\u001b[0m\u001b[0m\n\u001b[0;31mFile:\u001b[0m           ~/codes/pymfree/pymfree/core/function.py\n\u001b[0;31mType:\u001b[0m           type\n\u001b[0;31mSubclasses:\u001b[0m     \n"
    }
   ],
   "source": [
    "L2Norm??"
   ]
  },
  {
   "cell_type": "code",
   "execution_count": null,
   "metadata": {},
   "outputs": [],
   "source": []
  }
 ],
 "metadata": {
  "language_info": {
   "codemirror_mode": {
    "name": "ipython",
    "version": 3
   },
   "file_extension": ".py",
   "mimetype": "text/x-python",
   "name": "python",
   "nbconvert_exporter": "python",
   "pygments_lexer": "ipython3",
   "version": "3.7.7-final"
  },
  "orig_nbformat": 2,
  "kernelspec": {
   "name": "python37764bit35ea5608fe5f40f18ddee189641235d7",
   "display_name": "Python 3.7.7 64-bit"
  }
 },
 "nbformat": 4,
 "nbformat_minor": 2
}